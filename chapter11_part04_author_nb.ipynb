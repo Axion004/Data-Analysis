{
  "cells": [
    {
      "cell_type": "markdown",
      "metadata": {
        "id": "view-in-github",
        "colab_type": "text"
      },
      "source": [
        "<a href=\"https://colab.research.google.com/github/matthewshawnkehoe/Data-Analysis/blob/main/chapter11_part04_author_nb.ipynb\" target=\"_parent\"><img src=\"https://colab.research.google.com/assets/colab-badge.svg\" alt=\"Open In Colab\"/></a>"
      ]
    },
    {
      "cell_type": "markdown",
      "metadata": {
        "id": "_sELLQkE8WKs"
      },
      "source": [
        "This is a companion notebook for the book [Deep Learning with Python, Second Edition](https://www.manning.com/books/deep-learning-with-python-second-edition?a_aid=keras&a_bid=76564dff). For readability, it only contains runnable code blocks and section titles, and omits everything else in the book: text paragraphs, figures, and pseudocode.\n",
        "\n",
        "**If you want to be able to follow what's going on, I recommend reading the notebook side by side with your copy of the book.**\n",
        "\n",
        "This notebook was generated for TensorFlow 2.6."
      ]
    },
    {
      "cell_type": "markdown",
      "metadata": {
        "id": "kfKw0LVt8WKt"
      },
      "source": [
        "## Beyond text classification: Sequence-to-sequence learning"
      ]
    },
    {
      "cell_type": "markdown",
      "metadata": {
        "id": "CccvBE3Q8WKu"
      },
      "source": [
        "### A machine translation example"
      ]
    },
    {
      "cell_type": "code",
      "execution_count": 1,
      "metadata": {
        "colab": {
          "base_uri": "https://localhost:8080/"
        },
        "id": "zJUyKg718WKv",
        "outputId": "f1b2e485-3b5d-4023-c7f9-d6600cffef98",
        "collapsed": true
      },
      "outputs": [
        {
          "output_type": "stream",
          "name": "stdout",
          "text": [
            "--2023-09-21 00:53:12--  http://storage.googleapis.com/download.tensorflow.org/data/spa-eng.zip\n",
            "Resolving storage.googleapis.com (storage.googleapis.com)... 74.125.199.207, 74.125.20.207, 108.177.98.207, ...\n",
            "Connecting to storage.googleapis.com (storage.googleapis.com)|74.125.199.207|:80... connected.\n",
            "HTTP request sent, awaiting response... 200 OK\n",
            "Length: 2638744 (2.5M) [application/zip]\n",
            "Saving to: ‘spa-eng.zip’\n",
            "\n",
            "\rspa-eng.zip           0%[                    ]       0  --.-KB/s               \rspa-eng.zip         100%[===================>]   2.52M  --.-KB/s    in 0.009s  \n",
            "\n",
            "2023-09-21 00:53:12 (273 MB/s) - ‘spa-eng.zip’ saved [2638744/2638744]\n",
            "\n"
          ]
        }
      ],
      "source": [
        "!wget http://storage.googleapis.com/download.tensorflow.org/data/spa-eng.zip\n",
        "!unzip -q spa-eng.zip"
      ]
    },
    {
      "cell_type": "code",
      "execution_count": 2,
      "metadata": {
        "id": "-79NQE0x8WKv"
      },
      "outputs": [],
      "source": [
        "text_file = \"spa-eng/spa.txt\"\n",
        "with open(text_file) as f:\n",
        "    lines = f.read().split(\"\\n\")[:-1]\n",
        "text_pairs = []\n",
        "for line in lines:\n",
        "    english, spanish = line.split(\"\\t\")\n",
        "    spanish = \"[start] \" + spanish + \" [end]\"\n",
        "    text_pairs.append((english, spanish))"
      ]
    },
    {
      "cell_type": "code",
      "execution_count": 3,
      "metadata": {
        "colab": {
          "base_uri": "https://localhost:8080/"
        },
        "id": "z8HQz3wF8WKw",
        "outputId": "b14c9091-1c85-4a24-ad22-5446a651efdb"
      },
      "outputs": [
        {
          "output_type": "stream",
          "name": "stdout",
          "text": [
            "('Tom lives in a three-bedroom apartment in downtown Boston.', '[start] Tom vive en un departamento de tres dormitorios en el centro de Boston. [end]')\n"
          ]
        }
      ],
      "source": [
        "import random\n",
        "print(random.choice(text_pairs))"
      ]
    },
    {
      "cell_type": "code",
      "execution_count": 4,
      "metadata": {
        "id": "psrx6nB28WKw"
      },
      "outputs": [],
      "source": [
        "import random\n",
        "random.shuffle(text_pairs)\n",
        "num_val_samples = int(0.15 * len(text_pairs))\n",
        "num_train_samples = len(text_pairs) - 2 * num_val_samples\n",
        "train_pairs = text_pairs[:num_train_samples]\n",
        "val_pairs = text_pairs[num_train_samples:num_train_samples + num_val_samples]\n",
        "test_pairs = text_pairs[num_train_samples + num_val_samples:]"
      ]
    },
    {
      "cell_type": "markdown",
      "metadata": {
        "id": "cliKjW0x8WKx"
      },
      "source": [
        "**Vectorizing the English and Spanish text pairs**"
      ]
    },
    {
      "cell_type": "code",
      "execution_count": 5,
      "metadata": {
        "id": "lVvQAt9h8WKy"
      },
      "outputs": [],
      "source": [
        "import tensorflow as tf\n",
        "import string\n",
        "import re\n",
        "from tensorflow import keras\n",
        "from tensorflow.keras import layers\n",
        "\n",
        "strip_chars = string.punctuation + \"¿\"\n",
        "strip_chars = strip_chars.replace(\"[\", \"\")\n",
        "strip_chars = strip_chars.replace(\"]\", \"\")\n",
        "\n",
        "def custom_standardization(input_string):\n",
        "    lowercase = tf.strings.lower(input_string)\n",
        "    return tf.strings.regex_replace(\n",
        "        lowercase, f\"[{re.escape(strip_chars)}]\", \"\")\n",
        "\n",
        "vocab_size = 15000\n",
        "sequence_length = 20\n",
        "\n",
        "source_vectorization = layers.TextVectorization(\n",
        "    max_tokens=vocab_size,\n",
        "    output_mode=\"int\",\n",
        "    output_sequence_length=sequence_length,\n",
        ")\n",
        "target_vectorization = layers.TextVectorization(\n",
        "    max_tokens=vocab_size,\n",
        "    output_mode=\"int\",\n",
        "    output_sequence_length=sequence_length + 1,\n",
        "    standardize=custom_standardization,\n",
        ")\n",
        "train_english_texts = [pair[0] for pair in train_pairs]\n",
        "train_spanish_texts = [pair[1] for pair in train_pairs]\n",
        "source_vectorization.adapt(train_english_texts)\n",
        "target_vectorization.adapt(train_spanish_texts)"
      ]
    },
    {
      "cell_type": "markdown",
      "metadata": {
        "id": "zMwFS7dy8WKz"
      },
      "source": [
        "**Preparing datasets for the translation task**"
      ]
    },
    {
      "cell_type": "code",
      "execution_count": 6,
      "metadata": {
        "id": "ZYq7rw1z8WKz"
      },
      "outputs": [],
      "source": [
        "batch_size = 64\n",
        "\n",
        "def format_dataset(eng, spa):\n",
        "    eng = source_vectorization(eng)\n",
        "    spa = target_vectorization(spa)\n",
        "    return ({\n",
        "        \"english\": eng,\n",
        "        \"spanish\": spa[:, :-1],\n",
        "    }, spa[:, 1:])\n",
        "\n",
        "def make_dataset(pairs):\n",
        "    eng_texts, spa_texts = zip(*pairs)\n",
        "    eng_texts = list(eng_texts)\n",
        "    spa_texts = list(spa_texts)\n",
        "    dataset = tf.data.Dataset.from_tensor_slices((eng_texts, spa_texts))\n",
        "    dataset = dataset.batch(batch_size)\n",
        "    dataset = dataset.map(format_dataset, num_parallel_calls=4)\n",
        "    return dataset.shuffle(2048).prefetch(16).cache()\n",
        "\n",
        "train_ds = make_dataset(train_pairs)\n",
        "val_ds = make_dataset(val_pairs)"
      ]
    },
    {
      "cell_type": "code",
      "execution_count": 7,
      "metadata": {
        "colab": {
          "base_uri": "https://localhost:8080/"
        },
        "id": "MIUhUPoJ8WK0",
        "outputId": "aaac0599-537c-452a-a491-cae9f32c9e76"
      },
      "outputs": [
        {
          "output_type": "stream",
          "name": "stdout",
          "text": [
            "inputs['english'].shape: (64, 20)\n",
            "inputs['spanish'].shape: (64, 20)\n",
            "targets.shape: (64, 20)\n"
          ]
        }
      ],
      "source": [
        "for inputs, targets in train_ds.take(1):\n",
        "    print(f\"inputs['english'].shape: {inputs['english'].shape}\")\n",
        "    print(f\"inputs['spanish'].shape: {inputs['spanish'].shape}\")\n",
        "    print(f\"targets.shape: {targets.shape}\")"
      ]
    },
    {
      "cell_type": "markdown",
      "metadata": {
        "id": "E9uC8jts8WK0"
      },
      "source": [
        "### Sequence-to-sequence learning with RNNs"
      ]
    },
    {
      "cell_type": "markdown",
      "metadata": {
        "id": "lU7o3Alm8WK0"
      },
      "source": [
        "**GRU-based encoder**"
      ]
    },
    {
      "cell_type": "code",
      "execution_count": 8,
      "metadata": {
        "id": "rn67R08Z8WK1"
      },
      "outputs": [],
      "source": [
        "from tensorflow import keras\n",
        "from tensorflow.keras import layers\n",
        "\n",
        "embed_dim = 256\n",
        "latent_dim = 1024\n",
        "\n",
        "source = keras.Input(shape=(None,), dtype=\"int64\", name=\"english\")\n",
        "x = layers.Embedding(vocab_size, embed_dim, mask_zero=True)(source)\n",
        "encoded_source = layers.Bidirectional(\n",
        "    layers.GRU(latent_dim), merge_mode=\"sum\")(x)"
      ]
    },
    {
      "cell_type": "markdown",
      "metadata": {
        "id": "0w3QURmZ8WK1"
      },
      "source": [
        "**GRU-based decoder and the end-to-end model**"
      ]
    },
    {
      "cell_type": "code",
      "execution_count": 9,
      "metadata": {
        "id": "5kil3o148WK1"
      },
      "outputs": [],
      "source": [
        "past_target = keras.Input(shape=(None,), dtype=\"int64\", name=\"spanish\")\n",
        "x = layers.Embedding(vocab_size, embed_dim, mask_zero=True)(past_target)\n",
        "decoder_gru = layers.GRU(latent_dim, return_sequences=True)\n",
        "x = decoder_gru(x, initial_state=encoded_source)\n",
        "x = layers.Dropout(0.5)(x)\n",
        "target_next_step = layers.Dense(vocab_size, activation=\"softmax\")(x)\n",
        "seq2seq_rnn = keras.Model([source, past_target], target_next_step)"
      ]
    },
    {
      "cell_type": "markdown",
      "metadata": {
        "id": "dgbZ3h5O8WK2"
      },
      "source": [
        "**Training our recurrent sequence-to-sequence model**"
      ]
    },
    {
      "cell_type": "code",
      "execution_count": 10,
      "metadata": {
        "colab": {
          "base_uri": "https://localhost:8080/"
        },
        "id": "AR16KV5F8WK3",
        "outputId": "39819d59-025c-4202-f32a-9f9cac44698e"
      },
      "outputs": [
        {
          "output_type": "stream",
          "name": "stdout",
          "text": [
            "Epoch 1/15\n",
            "1302/1302 [==============================] - 155s 105ms/step - loss: 4.6901 - accuracy: 0.3185 - val_loss: 3.9105 - val_accuracy: 0.3881\n",
            "Epoch 2/15\n",
            "1302/1302 [==============================] - 107s 82ms/step - loss: 3.7250 - accuracy: 0.4160 - val_loss: 3.2545 - val_accuracy: 0.4686\n",
            "Epoch 3/15\n",
            "1302/1302 [==============================] - 107s 82ms/step - loss: 3.2251 - accuracy: 0.4712 - val_loss: 2.8867 - val_accuracy: 0.5160\n",
            "Epoch 4/15\n",
            "1302/1302 [==============================] - 107s 82ms/step - loss: 2.8740 - accuracy: 0.5107 - val_loss: 2.6329 - val_accuracy: 0.5504\n",
            "Epoch 5/15\n",
            "1302/1302 [==============================] - 106s 82ms/step - loss: 2.5996 - accuracy: 0.5445 - val_loss: 2.4566 - val_accuracy: 0.5762\n",
            "Epoch 6/15\n",
            "1302/1302 [==============================] - 106s 82ms/step - loss: 2.3804 - accuracy: 0.5726 - val_loss: 2.3290 - val_accuracy: 0.5956\n",
            "Epoch 7/15\n",
            "1302/1302 [==============================] - 106s 82ms/step - loss: 2.1979 - accuracy: 0.5962 - val_loss: 2.2324 - val_accuracy: 0.6112\n",
            "Epoch 8/15\n",
            "1302/1302 [==============================] - 106s 82ms/step - loss: 2.0401 - accuracy: 0.6171 - val_loss: 2.1600 - val_accuracy: 0.6234\n",
            "Epoch 9/15\n",
            "1302/1302 [==============================] - 106s 81ms/step - loss: 1.9011 - accuracy: 0.6361 - val_loss: 2.1019 - val_accuracy: 0.6307\n",
            "Epoch 10/15\n",
            "1302/1302 [==============================] - 106s 82ms/step - loss: 1.7826 - accuracy: 0.6519 - val_loss: 2.0564 - val_accuracy: 0.6384\n",
            "Epoch 11/15\n",
            "1302/1302 [==============================] - 107s 82ms/step - loss: 1.6747 - accuracy: 0.6669 - val_loss: 2.0217 - val_accuracy: 0.6447\n",
            "Epoch 12/15\n",
            "1302/1302 [==============================] - 106s 82ms/step - loss: 1.5807 - accuracy: 0.6800 - val_loss: 2.0012 - val_accuracy: 0.6488\n",
            "Epoch 13/15\n",
            "1302/1302 [==============================] - 107s 82ms/step - loss: 1.4971 - accuracy: 0.6920 - val_loss: 1.9736 - val_accuracy: 0.6527\n",
            "Epoch 14/15\n",
            "1302/1302 [==============================] - 107s 82ms/step - loss: 1.4309 - accuracy: 0.7013 - val_loss: 1.9504 - val_accuracy: 0.6565\n",
            "Epoch 15/15\n",
            "1302/1302 [==============================] - 106s 82ms/step - loss: 1.3635 - accuracy: 0.7117 - val_loss: 1.9413 - val_accuracy: 0.6596\n"
          ]
        },
        {
          "output_type": "execute_result",
          "data": {
            "text/plain": [
              "<keras.src.callbacks.History at 0x7cdf6db94430>"
            ]
          },
          "metadata": {},
          "execution_count": 10
        }
      ],
      "source": [
        "seq2seq_rnn.compile(\n",
        "    optimizer=\"rmsprop\",\n",
        "    loss=\"sparse_categorical_crossentropy\",\n",
        "    metrics=[\"accuracy\"])\n",
        "seq2seq_rnn.fit(train_ds, epochs=15, validation_data=val_ds)"
      ]
    },
    {
      "cell_type": "markdown",
      "metadata": {
        "id": "CleflL_z8WK3"
      },
      "source": [
        "**Translating new sentences with our RNN encoder and decoder**"
      ]
    },
    {
      "cell_type": "code",
      "execution_count": 11,
      "metadata": {
        "id": "uK58vFMA8WK3",
        "outputId": "565cf0d5-3b79-4305-a5bd-c1ec26b619f3",
        "colab": {
          "base_uri": "https://localhost:8080/"
        }
      },
      "outputs": [
        {
          "output_type": "stream",
          "name": "stdout",
          "text": [
            "-\n",
            "He took me to the station.\n",
            "1/1 [==============================] - 3s 3s/step\n",
            "1/1 [==============================] - 0s 25ms/step\n",
            "1/1 [==============================] - 0s 23ms/step\n",
            "1/1 [==============================] - 0s 26ms/step\n",
            "1/1 [==============================] - 0s 26ms/step\n",
            "1/1 [==============================] - 0s 25ms/step\n",
            "[start] Él me tomó la estación [end]\n",
            "-\n",
            "You were alone at that time, weren't you?\n",
            "1/1 [==============================] - 0s 27ms/step\n",
            "1/1 [==============================] - 0s 25ms/step\n",
            "1/1 [==============================] - 0s 27ms/step\n",
            "1/1 [==============================] - 0s 27ms/step\n",
            "1/1 [==============================] - 0s 26ms/step\n",
            "1/1 [==============================] - 0s 31ms/step\n",
            "1/1 [==============================] - 0s 25ms/step\n",
            "1/1 [==============================] - 0s 28ms/step\n",
            "[start] estabas en un tiempo no te parece [end]\n",
            "-\n",
            "We have been together for a year.\n",
            "1/1 [==============================] - 0s 26ms/step\n",
            "1/1 [==============================] - 0s 23ms/step\n",
            "1/1 [==============================] - 0s 23ms/step\n",
            "1/1 [==============================] - 0s 25ms/step\n",
            "1/1 [==============================] - 0s 24ms/step\n",
            "1/1 [==============================] - 0s 23ms/step\n",
            "[start] llevamos estado durante un año [end]\n",
            "-\n",
            "What is the population of Japan?\n",
            "1/1 [==============================] - 0s 29ms/step\n",
            "1/1 [==============================] - 0s 26ms/step\n",
            "1/1 [==============================] - 0s 24ms/step\n",
            "1/1 [==============================] - 0s 31ms/step\n",
            "1/1 [==============================] - 0s 31ms/step\n",
            "1/1 [==============================] - 0s 25ms/step\n",
            "1/1 [==============================] - 0s 30ms/step\n",
            "[start] cuál es la capital de japón [end]\n",
            "-\n",
            "The French president is to visit Japan next month.\n",
            "1/1 [==============================] - 0s 23ms/step\n",
            "1/1 [==============================] - 0s 25ms/step\n",
            "1/1 [==============================] - 0s 23ms/step\n",
            "1/1 [==============================] - 0s 23ms/step\n",
            "1/1 [==============================] - 0s 23ms/step\n",
            "1/1 [==============================] - 0s 23ms/step\n",
            "1/1 [==============================] - 0s 25ms/step\n",
            "1/1 [==============================] - 0s 27ms/step\n",
            "1/1 [==============================] - 0s 26ms/step\n",
            "1/1 [==============================] - 0s 24ms/step\n",
            "1/1 [==============================] - 0s 31ms/step\n",
            "[start] el profesor de inglés está a menudo el próximo mes [end]\n",
            "-\n",
            "Where are the strawberries?\n",
            "1/1 [==============================] - 0s 22ms/step\n",
            "1/1 [==============================] - 0s 26ms/step\n",
            "1/1 [==============================] - 0s 23ms/step\n",
            "1/1 [==============================] - 0s 26ms/step\n",
            "1/1 [==============================] - 0s 25ms/step\n",
            "[start] dónde están las entradas [end]\n",
            "-\n",
            "It's difficult to teach people what they are unwilling to learn.\n",
            "1/1 [==============================] - 0s 27ms/step\n",
            "1/1 [==============================] - 0s 26ms/step\n",
            "1/1 [==============================] - 0s 25ms/step\n",
            "1/1 [==============================] - 0s 26ms/step\n",
            "1/1 [==============================] - 0s 27ms/step\n",
            "1/1 [==============================] - 0s 27ms/step\n",
            "1/1 [==============================] - 0s 28ms/step\n",
            "1/1 [==============================] - 0s 25ms/step\n",
            "1/1 [==============================] - 0s 26ms/step\n",
            "1/1 [==============================] - 0s 25ms/step\n",
            "1/1 [==============================] - 0s 26ms/step\n",
            "1/1 [==============================] - 0s 26ms/step\n",
            "[start] es difícil decir a la gente que se [UNK] de forma [end]\n",
            "-\n",
            "I want you to have this.\n",
            "1/1 [==============================] - 0s 25ms/step\n",
            "1/1 [==============================] - 0s 25ms/step\n",
            "1/1 [==============================] - 0s 33ms/step\n",
            "1/1 [==============================] - 0s 24ms/step\n",
            "1/1 [==============================] - 0s 28ms/step\n",
            "[start] quiero que tengas esto [end]\n",
            "-\n",
            "I don't like her.\n",
            "1/1 [==============================] - 0s 38ms/step\n",
            "1/1 [==============================] - 0s 36ms/step\n",
            "1/1 [==============================] - 0s 45ms/step\n",
            "1/1 [==============================] - 0s 46ms/step\n",
            "[start] no me gusta [end]\n",
            "-\n",
            "He left the room.\n",
            "1/1 [==============================] - 0s 50ms/step\n",
            "1/1 [==============================] - 0s 35ms/step\n",
            "1/1 [==============================] - 0s 35ms/step\n",
            "1/1 [==============================] - 0s 37ms/step\n",
            "1/1 [==============================] - 0s 36ms/step\n",
            "[start] Él dejó la habitación [end]\n",
            "-\n",
            "He got away.\n",
            "1/1 [==============================] - 0s 46ms/step\n",
            "1/1 [==============================] - 0s 34ms/step\n",
            "1/1 [==============================] - 0s 37ms/step\n",
            "1/1 [==============================] - 0s 36ms/step\n",
            "[start] Él se levantó [end]\n",
            "-\n",
            "No matter what you do, Tom will never agree.\n",
            "1/1 [==============================] - 0s 37ms/step\n",
            "1/1 [==============================] - 0s 34ms/step\n",
            "1/1 [==============================] - 0s 38ms/step\n",
            "1/1 [==============================] - 0s 36ms/step\n",
            "1/1 [==============================] - 0s 43ms/step\n",
            "1/1 [==============================] - 0s 35ms/step\n",
            "1/1 [==============================] - 0s 31ms/step\n",
            "1/1 [==============================] - 0s 26ms/step\n",
            "1/1 [==============================] - 0s 26ms/step\n",
            "1/1 [==============================] - 0s 24ms/step\n",
            "1/1 [==============================] - 0s 25ms/step\n",
            "1/1 [==============================] - 0s 27ms/step\n",
            "1/1 [==============================] - 0s 28ms/step\n",
            "[start] no importa lo que pase tom no te va a hacer nunca [end]\n",
            "-\n",
            "We must continue.\n",
            "1/1 [==============================] - 0s 24ms/step\n",
            "1/1 [==============================] - 0s 23ms/step\n",
            "1/1 [==============================] - 0s 23ms/step\n",
            "[start] debemos seguir [end]\n",
            "-\n",
            "I want you to see her.\n",
            "1/1 [==============================] - 0s 27ms/step\n",
            "1/1 [==============================] - 0s 24ms/step\n",
            "1/1 [==============================] - 0s 22ms/step\n",
            "1/1 [==============================] - 0s 22ms/step\n",
            "1/1 [==============================] - 0s 24ms/step\n",
            "[start] quiero que la vi [end]\n",
            "-\n",
            "Can you recommend a good restaurant?\n",
            "1/1 [==============================] - 0s 27ms/step\n",
            "1/1 [==============================] - 0s 23ms/step\n",
            "1/1 [==============================] - 0s 26ms/step\n",
            "1/1 [==============================] - 0s 26ms/step\n",
            "1/1 [==============================] - 0s 23ms/step\n",
            "1/1 [==============================] - 0s 29ms/step\n",
            "[start] puedes recomendar un buen restaurante [end]\n",
            "-\n",
            "I have a bit of a problem.\n",
            "1/1 [==============================] - 0s 25ms/step\n",
            "1/1 [==============================] - 0s 26ms/step\n",
            "1/1 [==============================] - 0s 25ms/step\n",
            "1/1 [==============================] - 0s 26ms/step\n",
            "1/1 [==============================] - 0s 25ms/step\n",
            "1/1 [==============================] - 0s 27ms/step\n",
            "1/1 [==============================] - 0s 26ms/step\n",
            "[start] tengo un poco de un problema [end]\n",
            "-\n",
            "Did Tom give you back your pen?\n",
            "1/1 [==============================] - 0s 24ms/step\n",
            "1/1 [==============================] - 0s 26ms/step\n",
            "1/1 [==============================] - 0s 28ms/step\n",
            "1/1 [==============================] - 0s 25ms/step\n",
            "1/1 [==============================] - 0s 31ms/step\n",
            "1/1 [==============================] - 0s 23ms/step\n",
            "1/1 [==============================] - 0s 29ms/step\n",
            "1/1 [==============================] - 0s 26ms/step\n",
            "[start] te ha tom te [UNK] el número [end]\n",
            "-\n",
            "I went around Hokkaido by bike this summer.\n",
            "1/1 [==============================] - 0s 23ms/step\n",
            "1/1 [==============================] - 0s 28ms/step\n",
            "1/1 [==============================] - 0s 25ms/step\n",
            "1/1 [==============================] - 0s 23ms/step\n",
            "1/1 [==============================] - 0s 27ms/step\n",
            "1/1 [==============================] - 0s 24ms/step\n",
            "1/1 [==============================] - 0s 24ms/step\n",
            "1/1 [==============================] - 0s 26ms/step\n",
            "[start] fui a la venta de este hotel [end]\n",
            "-\n",
            "I'm a patient man.\n",
            "1/1 [==============================] - 0s 22ms/step\n",
            "1/1 [==============================] - 0s 24ms/step\n",
            "1/1 [==============================] - 0s 23ms/step\n",
            "1/1 [==============================] - 0s 22ms/step\n",
            "1/1 [==============================] - 0s 29ms/step\n",
            "[start] soy un hombre paciente [end]\n",
            "-\n",
            "She is very pretty.\n",
            "1/1 [==============================] - 0s 24ms/step\n",
            "1/1 [==============================] - 0s 25ms/step\n",
            "1/1 [==============================] - 0s 26ms/step\n",
            "1/1 [==============================] - 0s 21ms/step\n",
            "[start] es muy hermosa [end]\n"
          ]
        }
      ],
      "source": [
        "import numpy as np\n",
        "spa_vocab = target_vectorization.get_vocabulary()\n",
        "spa_index_lookup = dict(zip(range(len(spa_vocab)), spa_vocab))\n",
        "max_decoded_sentence_length = 20\n",
        "\n",
        "def decode_sequence(input_sentence):\n",
        "    tokenized_input_sentence = source_vectorization([input_sentence])\n",
        "    decoded_sentence = \"[start]\"\n",
        "    for i in range(max_decoded_sentence_length):\n",
        "        tokenized_target_sentence = target_vectorization([decoded_sentence])\n",
        "        next_token_predictions = seq2seq_rnn.predict(\n",
        "            [tokenized_input_sentence, tokenized_target_sentence])\n",
        "        sampled_token_index = np.argmax(next_token_predictions[0, i, :])\n",
        "        sampled_token = spa_index_lookup[sampled_token_index]\n",
        "        decoded_sentence += \" \" + sampled_token\n",
        "        if sampled_token == \"[end]\":\n",
        "            break\n",
        "    return decoded_sentence\n",
        "\n",
        "test_eng_texts = [pair[0] for pair in test_pairs]\n",
        "for _ in range(20):\n",
        "    input_sentence = random.choice(test_eng_texts)\n",
        "    print(\"-\")\n",
        "    print(input_sentence)\n",
        "    print(decode_sequence(input_sentence))"
      ]
    },
    {
      "cell_type": "markdown",
      "metadata": {
        "id": "0_WaCAUh8WK3"
      },
      "source": [
        "### Sequence-to-sequence learning with Transformer"
      ]
    },
    {
      "cell_type": "markdown",
      "source": [
        "#### The Transformer encoder"
      ],
      "metadata": {
        "id": "IM56Lhu0id6R"
      }
    },
    {
      "cell_type": "code",
      "source": [
        "# We need to add this!\n",
        "\n",
        "class TransformerEncoder(layers.Layer):\n",
        "    def __init__(self, embed_dim, dense_dim, num_heads, **kwargs):\n",
        "        super().__init__(**kwargs)\n",
        "        self.embed_dim = embed_dim\n",
        "        self.dense_dim = dense_dim\n",
        "        self.num_heads = num_heads\n",
        "        self.attention = layers.MultiHeadAttention(\n",
        "            num_heads=num_heads, key_dim=embed_dim)\n",
        "        self.dense_proj = keras.Sequential(\n",
        "            [layers.Dense(dense_dim, activation=\"relu\"),\n",
        "             layers.Dense(embed_dim),]\n",
        "        )\n",
        "        self.layernorm_1 = layers.LayerNormalization()\n",
        "        self.layernorm_2 = layers.LayerNormalization()\n",
        "\n",
        "    def call(self, inputs, mask=None):\n",
        "        if mask is not None:\n",
        "            mask = mask[:, tf.newaxis, :]\n",
        "        attention_output = self.attention(\n",
        "            inputs, inputs, attention_mask=mask)\n",
        "        proj_input = self.layernorm_1(inputs + attention_output)\n",
        "        proj_output = self.dense_proj(proj_input)\n",
        "        return self.layernorm_2(proj_input + proj_output)\n",
        "\n",
        "    def get_config(self):\n",
        "        config = super().get_config()\n",
        "        config.update({\n",
        "            \"embed_dim\": self.embed_dim,\n",
        "            \"num_heads\": self.num_heads,\n",
        "            \"dense_dim\": self.dense_dim,\n",
        "        })\n",
        "        return config"
      ],
      "metadata": {
        "id": "0BLHCwxriijE"
      },
      "execution_count": 20,
      "outputs": []
    },
    {
      "cell_type": "markdown",
      "metadata": {
        "id": "BbFtet2m8WK4"
      },
      "source": [
        "#### The Transformer decoder"
      ]
    },
    {
      "cell_type": "markdown",
      "metadata": {
        "id": "0MxVrBq28WK4"
      },
      "source": [
        "**The `TransformerDecoder`**"
      ]
    },
    {
      "cell_type": "code",
      "execution_count": 12,
      "metadata": {
        "id": "PKCwUt818WK4"
      },
      "outputs": [],
      "source": [
        "class TransformerDecoder(layers.Layer):\n",
        "    def __init__(self, embed_dim, dense_dim, num_heads, **kwargs):\n",
        "        super().__init__(**kwargs)\n",
        "        self.embed_dim = embed_dim\n",
        "        self.dense_dim = dense_dim\n",
        "        self.num_heads = num_heads\n",
        "        self.attention_1 = layers.MultiHeadAttention(\n",
        "            num_heads=num_heads, key_dim=embed_dim)\n",
        "        self.attention_2 = layers.MultiHeadAttention(\n",
        "            num_heads=num_heads, key_dim=embed_dim)\n",
        "        self.dense_proj = keras.Sequential(\n",
        "            [layers.Dense(dense_dim, activation=\"relu\"),\n",
        "             layers.Dense(embed_dim),]\n",
        "        )\n",
        "        self.layernorm_1 = layers.LayerNormalization()\n",
        "        self.layernorm_2 = layers.LayerNormalization()\n",
        "        self.layernorm_3 = layers.LayerNormalization()\n",
        "        self.supports_masking = True\n",
        "\n",
        "    def get_config(self):\n",
        "        config = super().get_config()\n",
        "        config.update({\n",
        "            \"embed_dim\": self.embed_dim,\n",
        "            \"num_heads\": self.num_heads,\n",
        "            \"dense_dim\": self.dense_dim,\n",
        "        })\n",
        "        return config\n",
        "\n",
        "    def get_causal_attention_mask(self, inputs):\n",
        "        input_shape = tf.shape(inputs)\n",
        "        batch_size, sequence_length = input_shape[0], input_shape[1]\n",
        "        i = tf.range(sequence_length)[:, tf.newaxis]\n",
        "        j = tf.range(sequence_length)\n",
        "        mask = tf.cast(i >= j, dtype=\"int32\")\n",
        "        mask = tf.reshape(mask, (1, input_shape[1], input_shape[1]))\n",
        "        mult = tf.concat(\n",
        "            [tf.expand_dims(batch_size, -1),\n",
        "             tf.constant([1, 1], dtype=tf.int32)], axis=0)\n",
        "        return tf.tile(mask, mult)\n",
        "\n",
        "    def call(self, inputs, encoder_outputs, mask=None):\n",
        "        causal_mask = self.get_causal_attention_mask(inputs)\n",
        "        if mask is not None:\n",
        "            padding_mask = tf.cast(\n",
        "                mask[:, tf.newaxis, :], dtype=\"int32\")\n",
        "            padding_mask = tf.minimum(padding_mask, causal_mask)\n",
        "        else:\n",
        "            padding_mask = mask\n",
        "        attention_output_1 = self.attention_1(\n",
        "            query=inputs,\n",
        "            value=inputs,\n",
        "            key=inputs,\n",
        "            attention_mask=causal_mask)\n",
        "        attention_output_1 = self.layernorm_1(inputs + attention_output_1)\n",
        "        attention_output_2 = self.attention_2(\n",
        "            query=attention_output_1,\n",
        "            value=encoder_outputs,\n",
        "            key=encoder_outputs,\n",
        "            attention_mask=padding_mask,\n",
        "        )\n",
        "        attention_output_2 = self.layernorm_2(\n",
        "            attention_output_1 + attention_output_2)\n",
        "        proj_output = self.dense_proj(attention_output_2)\n",
        "        return self.layernorm_3(attention_output_2 + proj_output)"
      ]
    },
    {
      "cell_type": "markdown",
      "metadata": {
        "id": "3LRDd1v08WK5"
      },
      "source": [
        "#### Putting it all together: A Transformer for machine translation"
      ]
    },
    {
      "cell_type": "markdown",
      "metadata": {
        "id": "fy-IWXJg8WK5"
      },
      "source": [
        "**PositionalEmbedding layer**"
      ]
    },
    {
      "cell_type": "code",
      "execution_count": 13,
      "metadata": {
        "id": "huQl1Fy18WK5"
      },
      "outputs": [],
      "source": [
        "class PositionalEmbedding(layers.Layer):\n",
        "    def __init__(self, sequence_length, input_dim, output_dim, **kwargs):\n",
        "        super().__init__(**kwargs)\n",
        "        self.token_embeddings = layers.Embedding(\n",
        "            input_dim=input_dim, output_dim=output_dim)\n",
        "        self.position_embeddings = layers.Embedding(\n",
        "            input_dim=sequence_length, output_dim=output_dim)\n",
        "        self.sequence_length = sequence_length\n",
        "        self.input_dim = input_dim\n",
        "        self.output_dim = output_dim\n",
        "\n",
        "    def call(self, inputs):\n",
        "        length = tf.shape(inputs)[-1]\n",
        "        positions = tf.range(start=0, limit=length, delta=1)\n",
        "        embedded_tokens = self.token_embeddings(inputs)\n",
        "        embedded_positions = self.position_embeddings(positions)\n",
        "        return embedded_tokens + embedded_positions\n",
        "\n",
        "    def compute_mask(self, inputs, mask=None):\n",
        "        return tf.math.not_equal(inputs, 0)\n",
        "\n",
        "    def get_config(self):\n",
        "        config = super(PositionalEmbedding, self).get_config()\n",
        "        config.update({\n",
        "            \"output_dim\": self.output_dim,\n",
        "            \"sequence_length\": self.sequence_length,\n",
        "            \"input_dim\": self.input_dim,\n",
        "        })\n",
        "        return config"
      ]
    },
    {
      "cell_type": "markdown",
      "metadata": {
        "id": "IXprHMPK8WK5"
      },
      "source": [
        "**End-to-end Transformer**"
      ]
    },
    {
      "cell_type": "code",
      "execution_count": 17,
      "metadata": {
        "id": "rWoYstZD8WK5"
      },
      "outputs": [],
      "source": [
        "embed_dim = 256\n",
        "dense_dim = 2048\n",
        "num_heads = 8\n",
        "\n",
        "encoder_inputs = keras.Input(shape=(None,), dtype=\"int64\", name=\"english\")\n",
        "x = PositionalEmbedding(sequence_length, vocab_size, embed_dim)(encoder_inputs)\n",
        "encoder_outputs = TransformerEncoder(embed_dim, dense_dim, num_heads)(x)\n",
        "\n",
        "decoder_inputs = keras.Input(shape=(None,), dtype=\"int64\", name=\"spanish\")\n",
        "x = PositionalEmbedding(sequence_length, vocab_size, embed_dim)(decoder_inputs)\n",
        "x = TransformerDecoder(embed_dim, dense_dim, num_heads)(x, encoder_outputs)\n",
        "x = layers.Dropout(0.5)(x)\n",
        "decoder_outputs = layers.Dense(vocab_size, activation=\"softmax\")(x)\n",
        "transformer = keras.Model([encoder_inputs, decoder_inputs], decoder_outputs)"
      ]
    },
    {
      "cell_type": "markdown",
      "metadata": {
        "id": "XqtEkIXu8WK6"
      },
      "source": [
        "**Training the sequence-to-sequence Transformer**"
      ]
    },
    {
      "cell_type": "code",
      "execution_count": 18,
      "metadata": {
        "id": "J4FsQnr38WK6",
        "outputId": "e617a445-92a4-4be3-9e82-b4668ac67e37",
        "colab": {
          "base_uri": "https://localhost:8080/"
        }
      },
      "outputs": [
        {
          "output_type": "stream",
          "name": "stdout",
          "text": [
            "Epoch 1/30\n",
            "1302/1302 [==============================] - 109s 77ms/step - loss: 3.7975 - accuracy: 0.4401 - val_loss: 2.8841 - val_accuracy: 0.5414\n",
            "Epoch 2/30\n",
            "1302/1302 [==============================] - 87s 66ms/step - loss: 2.8570 - accuracy: 0.5497 - val_loss: 2.5210 - val_accuracy: 0.5913\n",
            "Epoch 3/30\n",
            "1302/1302 [==============================] - 86s 66ms/step - loss: 2.5646 - accuracy: 0.5927 - val_loss: 2.4076 - val_accuracy: 0.6117\n",
            "Epoch 4/30\n",
            "1302/1302 [==============================] - 86s 66ms/step - loss: 2.4030 - accuracy: 0.6194 - val_loss: 2.3445 - val_accuracy: 0.6275\n",
            "Epoch 5/30\n",
            "1302/1302 [==============================] - 86s 66ms/step - loss: 2.2981 - accuracy: 0.6370 - val_loss: 2.3398 - val_accuracy: 0.6270\n",
            "Epoch 6/30\n",
            "1302/1302 [==============================] - 86s 66ms/step - loss: 2.2274 - accuracy: 0.6501 - val_loss: 2.3155 - val_accuracy: 0.6382\n",
            "Epoch 7/30\n",
            "1302/1302 [==============================] - 86s 66ms/step - loss: 2.1662 - accuracy: 0.6623 - val_loss: 2.2869 - val_accuracy: 0.6443\n",
            "Epoch 8/30\n",
            "1302/1302 [==============================] - 87s 66ms/step - loss: 2.1054 - accuracy: 0.6740 - val_loss: 2.2799 - val_accuracy: 0.6481\n",
            "Epoch 9/30\n",
            "1302/1302 [==============================] - 86s 66ms/step - loss: 2.0542 - accuracy: 0.6836 - val_loss: 2.2557 - val_accuracy: 0.6488\n",
            "Epoch 10/30\n",
            "1302/1302 [==============================] - 86s 66ms/step - loss: 2.0079 - accuracy: 0.6922 - val_loss: 2.2470 - val_accuracy: 0.6576\n",
            "Epoch 11/30\n",
            "1302/1302 [==============================] - 87s 66ms/step - loss: 1.9691 - accuracy: 0.6993 - val_loss: 2.2514 - val_accuracy: 0.6572\n",
            "Epoch 12/30\n",
            "1302/1302 [==============================] - 86s 66ms/step - loss: 1.9355 - accuracy: 0.7058 - val_loss: 2.2580 - val_accuracy: 0.6618\n",
            "Epoch 13/30\n",
            "1302/1302 [==============================] - 86s 66ms/step - loss: 1.9101 - accuracy: 0.7102 - val_loss: 2.2620 - val_accuracy: 0.6592\n",
            "Epoch 14/30\n",
            "1302/1302 [==============================] - 88s 67ms/step - loss: 1.8830 - accuracy: 0.7149 - val_loss: 2.2771 - val_accuracy: 0.6602\n",
            "Epoch 15/30\n",
            "1302/1302 [==============================] - 86s 66ms/step - loss: 1.8661 - accuracy: 0.7184 - val_loss: 2.2547 - val_accuracy: 0.6677\n",
            "Epoch 16/30\n",
            "1302/1302 [==============================] - 86s 66ms/step - loss: 1.8439 - accuracy: 0.7222 - val_loss: 2.2889 - val_accuracy: 0.6632\n",
            "Epoch 17/30\n",
            "1302/1302 [==============================] - 86s 66ms/step - loss: 1.8252 - accuracy: 0.7262 - val_loss: 2.3039 - val_accuracy: 0.6676\n",
            "Epoch 18/30\n",
            "1302/1302 [==============================] - 86s 66ms/step - loss: 1.8084 - accuracy: 0.7292 - val_loss: 2.3302 - val_accuracy: 0.6596\n",
            "Epoch 19/30\n",
            "1302/1302 [==============================] - 86s 66ms/step - loss: 1.7960 - accuracy: 0.7316 - val_loss: 2.3155 - val_accuracy: 0.6681\n",
            "Epoch 20/30\n",
            "1302/1302 [==============================] - 86s 66ms/step - loss: 1.7782 - accuracy: 0.7345 - val_loss: 2.3567 - val_accuracy: 0.6596\n",
            "Epoch 21/30\n",
            "1302/1302 [==============================] - 86s 66ms/step - loss: 1.7615 - accuracy: 0.7375 - val_loss: 2.3538 - val_accuracy: 0.6608\n",
            "Epoch 22/30\n",
            "1302/1302 [==============================] - 86s 66ms/step - loss: 1.7496 - accuracy: 0.7397 - val_loss: 2.3502 - val_accuracy: 0.6681\n",
            "Epoch 23/30\n",
            "1302/1302 [==============================] - 86s 66ms/step - loss: 1.7309 - accuracy: 0.7434 - val_loss: 2.3633 - val_accuracy: 0.6685\n",
            "Epoch 24/30\n",
            "1302/1302 [==============================] - 86s 66ms/step - loss: 1.7173 - accuracy: 0.7459 - val_loss: 2.4018 - val_accuracy: 0.6597\n",
            "Epoch 25/30\n",
            "1302/1302 [==============================] - 88s 67ms/step - loss: 1.7036 - accuracy: 0.7480 - val_loss: 2.3730 - val_accuracy: 0.6710\n",
            "Epoch 26/30\n",
            "1302/1302 [==============================] - 86s 66ms/step - loss: 1.6920 - accuracy: 0.7504 - val_loss: 2.3852 - val_accuracy: 0.6675\n",
            "Epoch 27/30\n",
            "1302/1302 [==============================] - 86s 66ms/step - loss: 1.6764 - accuracy: 0.7531 - val_loss: 2.4237 - val_accuracy: 0.6654\n",
            "Epoch 28/30\n",
            "1302/1302 [==============================] - 86s 66ms/step - loss: 1.6638 - accuracy: 0.7552 - val_loss: 2.3877 - val_accuracy: 0.6705\n",
            "Epoch 29/30\n",
            "1302/1302 [==============================] - 85s 65ms/step - loss: 1.6523 - accuracy: 0.7576 - val_loss: 2.4076 - val_accuracy: 0.6710\n",
            "Epoch 30/30\n",
            "1302/1302 [==============================] - 86s 66ms/step - loss: 1.6396 - accuracy: 0.7597 - val_loss: 2.4547 - val_accuracy: 0.6643\n"
          ]
        },
        {
          "output_type": "execute_result",
          "data": {
            "text/plain": [
              "<keras.src.callbacks.History at 0x7cdf1ebc0970>"
            ]
          },
          "metadata": {},
          "execution_count": 18
        }
      ],
      "source": [
        "transformer.compile(\n",
        "    optimizer=\"rmsprop\",\n",
        "    loss=\"sparse_categorical_crossentropy\",\n",
        "    metrics=[\"accuracy\"])\n",
        "transformer.fit(train_ds, epochs=30, validation_data=val_ds)"
      ]
    },
    {
      "cell_type": "markdown",
      "metadata": {
        "id": "oDxe9Tfz8WK6"
      },
      "source": [
        "**Translating new sentences with our Transformer model**"
      ]
    },
    {
      "cell_type": "code",
      "execution_count": 19,
      "metadata": {
        "id": "GZaEYhuH8WK7",
        "outputId": "67d88426-0a48-4430-f489-473e3a6ca5eb",
        "colab": {
          "base_uri": "https://localhost:8080/"
        }
      },
      "outputs": [
        {
          "output_type": "stream",
          "name": "stdout",
          "text": [
            "-\n",
            "I go to the country every summer.\n",
            "[start] voy a la hora todos los días [end]\n",
            "-\n",
            "Just give me one more chance.\n",
            "[start] solo dame más que me da más [end]\n",
            "-\n",
            "The building is twenty stories high.\n",
            "[start] el edificio es café [UNK] [end]\n",
            "-\n",
            "How well can you play guitar?\n",
            "[start] cuánto vamos a tocar guitarra [end]\n",
            "-\n",
            "Don't ever compare your wife to another woman.\n",
            "[start] no te [UNK] a tu esposa a la esposa [end]\n",
            "-\n",
            "You fainted.\n",
            "[start] te [UNK] [end]\n",
            "-\n",
            "Tom is a truck driver.\n",
            "[start] tom es un camión para más pobre [end]\n",
            "-\n",
            "Your soul belongs to me.\n",
            "[start] su alma me es para mí [end]\n",
            "-\n",
            "Stop and think it over for a minute.\n",
            "[start] para [UNK] y por un minuto [end]\n",
            "-\n",
            "Eat your soup before it gets cold.\n",
            "[start] [UNK] tu sopa antes que se [UNK] [end]\n",
            "-\n",
            "Your wish will come true in the near future.\n",
            "[start] se [UNK] que se [UNK] en el futuro [end]\n",
            "-\n",
            "The library will issue you a library card.\n",
            "[start] la biblioteca te [UNK] de menos a un pájaro [end]\n",
            "-\n",
            "Your shoes are here.\n",
            "[start] tus zapatos están acá [end]\n",
            "-\n",
            "Tom doesn't want to see Mary now.\n",
            "[start] tom no quiere ver a mary ahora [end]\n",
            "-\n",
            "Women live longer than men in most countries.\n",
            "[start] las mujeres viven más que los hombres son más que los hombres [end]\n",
            "-\n",
            "We have a moral responsibility to act.\n",
            "[start] tenemos una responsabilidad de [UNK] [end]\n",
            "-\n",
            "He cried and cried.\n",
            "[start] Él lloró y [UNK] [end]\n",
            "-\n",
            "I quit my job and moved so I could start off with a clean slate.\n",
            "[start] dejé mi trabajo para que se [UNK] así que me [UNK] a había [UNK] a limpiar un nuevo [end]\n",
            "-\n",
            "We're going to have to do this again.\n",
            "[start] vamos a tener que hacer esto de nuevo [end]\n",
            "-\n",
            "He barely passed the examination.\n",
            "[start] Él casi nunca [UNK] el examen [end]\n"
          ]
        }
      ],
      "source": [
        "import numpy as np\n",
        "spa_vocab = target_vectorization.get_vocabulary()\n",
        "spa_index_lookup = dict(zip(range(len(spa_vocab)), spa_vocab))\n",
        "max_decoded_sentence_length = 20\n",
        "\n",
        "def decode_sequence(input_sentence):\n",
        "    tokenized_input_sentence = source_vectorization([input_sentence])\n",
        "    decoded_sentence = \"[start]\"\n",
        "    for i in range(max_decoded_sentence_length):\n",
        "        tokenized_target_sentence = target_vectorization(\n",
        "            [decoded_sentence])[:, :-1]\n",
        "        predictions = transformer(\n",
        "            [tokenized_input_sentence, tokenized_target_sentence])\n",
        "        sampled_token_index = np.argmax(predictions[0, i, :])\n",
        "        sampled_token = spa_index_lookup[sampled_token_index]\n",
        "        decoded_sentence += \" \" + sampled_token\n",
        "        if sampled_token == \"[end]\":\n",
        "            break\n",
        "    return decoded_sentence\n",
        "\n",
        "test_eng_texts = [pair[0] for pair in test_pairs]\n",
        "for _ in range(20):\n",
        "    input_sentence = random.choice(test_eng_texts)\n",
        "    print(\"-\")\n",
        "    print(input_sentence)\n",
        "    print(decode_sequence(input_sentence))"
      ]
    },
    {
      "cell_type": "markdown",
      "metadata": {
        "id": "KdBsC0ia8WK7"
      },
      "source": [
        "## Summary"
      ]
    }
  ],
  "metadata": {
    "colab": {
      "provenance": [],
      "toc_visible": true,
      "gpuType": "T4",
      "include_colab_link": true
    },
    "kernelspec": {
      "display_name": "Python 3",
      "name": "python3"
    },
    "language_info": {
      "codemirror_mode": {
        "name": "ipython",
        "version": 3
      },
      "file_extension": ".py",
      "mimetype": "text/x-python",
      "name": "python",
      "nbconvert_exporter": "python",
      "pygments_lexer": "ipython3",
      "version": "3.7.0"
    },
    "accelerator": "GPU"
  },
  "nbformat": 4,
  "nbformat_minor": 0
}