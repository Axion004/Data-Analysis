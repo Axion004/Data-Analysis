{
  "cells": [
    {
      "cell_type": "markdown",
      "metadata": {
        "id": "view-in-github",
        "colab_type": "text"
      },
      "source": [
        "<a href=\"https://colab.research.google.com/github/matthewshawnkehoe/Data-Analysis/blob/main/chapter10_dl-for-timeseries.ipynb\" target=\"_parent\"><img src=\"https://colab.research.google.com/assets/colab-badge.svg\" alt=\"Open In Colab\"/></a>"
      ]
    },
    {
      "cell_type": "markdown",
      "metadata": {
        "id": "G5wj0_6YOBAy"
      },
      "source": [
        "This is a companion notebook for the book [Deep Learning with Python, Second Edition](https://www.manning.com/books/deep-learning-with-python-second-edition?a_aid=keras&a_bid=76564dff). It contains runnable code blocks and section titles, and some text paragraphs, figures, and pseudocode.\n",
        "\n",
        "\n",
        "This notebook was generated for TensorFlow 2.6."
      ]
    },
    {
      "cell_type": "markdown",
      "metadata": {
        "id": "FKAZZJAeOBAz"
      },
      "source": [
        "# Deep learning for timeseries"
      ]
    },
    {
      "cell_type": "markdown",
      "metadata": {
        "id": "ErbCqKdXOBAz"
      },
      "source": [
        "## Different kinds of timeseries tasks"
      ]
    },
    {
      "cell_type": "markdown",
      "metadata": {
        "id": "4g9Qqf1TOBA0"
      },
      "source": [
        "## A temperature-forecasting example"
      ]
    },
    {
      "cell_type": "code",
      "execution_count": 1,
      "metadata": {
        "collapsed": true,
        "id": "JRQwixPrOBA0",
        "outputId": "f8cdeb38-fbb8-4633-86d4-4c557cd7ac6e",
        "colab": {
          "base_uri": "https://localhost:8080/"
        }
      },
      "outputs": [
        {
          "output_type": "stream",
          "name": "stdout",
          "text": [
            "--2023-06-28 22:55:46--  https://s3.amazonaws.com/keras-datasets/jena_climate_2009_2016.csv.zip\n",
            "Resolving s3.amazonaws.com (s3.amazonaws.com)... 52.216.162.229, 54.231.168.16, 52.216.57.216, ...\n",
            "Connecting to s3.amazonaws.com (s3.amazonaws.com)|52.216.162.229|:443... connected.\n",
            "HTTP request sent, awaiting response... 200 OK\n",
            "Length: 13565642 (13M) [application/zip]\n",
            "Saving to: ‘jena_climate_2009_2016.csv.zip’\n",
            "\n",
            "jena_climate_2009_2 100%[===================>]  12.94M  41.5MB/s    in 0.3s    \n",
            "\n",
            "2023-06-28 22:55:47 (41.5 MB/s) - ‘jena_climate_2009_2016.csv.zip’ saved [13565642/13565642]\n",
            "\n",
            "Archive:  jena_climate_2009_2016.csv.zip\n",
            "  inflating: jena_climate_2009_2016.csv  \n",
            "  inflating: __MACOSX/._jena_climate_2009_2016.csv  \n"
          ]
        }
      ],
      "source": [
        "!wget https://s3.amazonaws.com/keras-datasets/jena_climate_2009_2016.csv.zip\n",
        "!unzip jena_climate_2009_2016.csv.zip"
      ]
    },
    {
      "cell_type": "markdown",
      "metadata": {
        "id": "QTb-WLGMOBA0"
      },
      "source": [
        "**Inspecting the data of the Jena weather dataset**"
      ]
    },
    {
      "cell_type": "code",
      "execution_count": 2,
      "metadata": {
        "id": "CwJs-YwAOBA1",
        "outputId": "09a7d57a-e3bd-40a6-9716-098d62c660d8",
        "colab": {
          "base_uri": "https://localhost:8080/"
        }
      },
      "outputs": [
        {
          "output_type": "stream",
          "name": "stdout",
          "text": [
            "['\"Date Time\"', '\"p (mbar)\"', '\"T (degC)\"', '\"Tpot (K)\"', '\"Tdew (degC)\"', '\"rh (%)\"', '\"VPmax (mbar)\"', '\"VPact (mbar)\"', '\"VPdef (mbar)\"', '\"sh (g/kg)\"', '\"H2OC (mmol/mol)\"', '\"rho (g/m**3)\"', '\"wv (m/s)\"', '\"max. wv (m/s)\"', '\"wd (deg)\"']\n",
            "420451\n"
          ]
        }
      ],
      "source": [
        "import os\n",
        "fname = os.path.join(\"jena_climate_2009_2016.csv\")\n",
        "\n",
        "with open(fname) as f:\n",
        "    data = f.read()\n",
        "\n",
        "lines = data.split(\"\\n\")\n",
        "header = lines[0].split(\",\")\n",
        "lines = lines[1:]\n",
        "print(header)\n",
        "print(len(lines))"
      ]
    },
    {
      "cell_type": "markdown",
      "metadata": {
        "id": "SmJlPWjgOBA1"
      },
      "source": [
        "**Parsing the data**"
      ]
    },
    {
      "cell_type": "code",
      "execution_count": 3,
      "metadata": {
        "id": "9YTBLy2_OBA1"
      },
      "outputs": [],
      "source": [
        "import numpy as np\n",
        "temperature = np.zeros((len(lines),))\n",
        "raw_data = np.zeros((len(lines), len(header) - 1))\n",
        "for i, line in enumerate(lines):\n",
        "    values = [float(x) for x in line.split(\",\")[1:]]\n",
        "    temperature[i] = values[1]\n",
        "    raw_data[i, :] = values[:]"
      ]
    },
    {
      "cell_type": "markdown",
      "metadata": {
        "id": "h7ss6cznOBA1"
      },
      "source": [
        "**Plotting the temperature timeseries**"
      ]
    },
    {
      "cell_type": "code",
      "execution_count": 4,
      "metadata": {
        "id": "K_JJr490OBA1",
        "outputId": "b7205ae7-7ffb-4c0c-a207-6c670afd5655",
        "colab": {
          "base_uri": "https://localhost:8080/",
          "height": 451
        }
      },
      "outputs": [
        {
          "output_type": "execute_result",
          "data": {
            "text/plain": [
              "[<matplotlib.lines.Line2D at 0x7fb3ada837c0>]"
            ]
          },
          "metadata": {},
          "execution_count": 4
        },
        {
          "output_type": "display_data",
          "data": {
            "text/plain": [
              "<Figure size 640x480 with 1 Axes>"
            ],
            "image/png": "[encoded data removed]"
          },
          "metadata": {}
        }
      ],
      "source": [
        "from matplotlib import pyplot as plt\n",
        "plt.plot(range(len(temperature)), temperature)"
      ]
    },
    {
      "cell_type": "markdown",
      "metadata": {
        "id": "-eKLGhQCOBA1"
      },
      "source": [
        "**Plotting the first 10 days of the temperature timeseries**"
      ]
    },
    {
      "cell_type": "code",
      "execution_count": 5,
      "metadata": {
        "id": "uetdwnL_OBA2",
        "outputId": "04a4a2d8-0916-41bb-ad53-734521d07e2e",
        "colab": {
          "base_uri": "https://localhost:8080/",
          "height": 447
        }
      },
      "outputs": [
        {
          "output_type": "execute_result",
          "data": {
            "text/plain": [
              "[<matplotlib.lines.Line2D at 0x7fb3a97f8250>]"
            ]
          },
          "metadata": {},
          "execution_count": 5
        },
        {
          "output_type": "display_data",
          "data": {
            "text/plain": [
              "<Figure size 640x480 with 1 Axes>"
            ],
            "image/png": "[encoded data removed]"
          },
          "metadata": {}
        }
      ],
      "source": [
        "plt.plot(range(1440), temperature[:1440])"
      ]
    },
    {
      "cell_type": "markdown",
      "metadata": {
        "id": "9NdCYA3MOBA2"
      },
      "source": [
        "**Computing the number of samples we'll use for each data split**"
      ]
    },
    {
      "cell_type": "code",
      "execution_count": 6,
      "metadata": {
        "id": "CTd0F-X3OBA2",
        "outputId": "7cce1fbe-eb16-4c4f-9305-03e9b85278a0",
        "colab": {
          "base_uri": "https://localhost:8080/"
        }
      },
      "outputs": [
        {
          "output_type": "stream",
          "name": "stdout",
          "text": [
            "num_train_samples: 210225\n",
            "num_val_samples: 105112\n",
            "num_test_samples: 105114\n"
          ]
        }
      ],
      "source": [
        "num_train_samples = int(0.5 * len(raw_data))\n",
        "num_val_samples = int(0.25 * len(raw_data))\n",
        "num_test_samples = len(raw_data) - num_train_samples - num_val_samples\n",
        "print(\"num_train_samples:\", num_train_samples)\n",
        "print(\"num_val_samples:\", num_val_samples)\n",
        "print(\"num_test_samples:\", num_test_samples)"
      ]
    },
    {
      "cell_type": "markdown",
      "metadata": {
        "id": "8FIeO2Z6OBA2"
      },
      "source": [
        "### Preparing the data"
      ]
    },
    {
      "cell_type": "markdown",
      "metadata": {
        "id": "rsxGYiFhOBA2"
      },
      "source": [
        "**Normalizing the data**"
      ]
    },
    {
      "cell_type": "code",
      "execution_count": 7,
      "metadata": {
        "id": "sWuDGVGwOBA2"
      },
      "outputs": [],
      "source": [
        "mean = raw_data[:num_train_samples].mean(axis=0)\n",
        "raw_data -= mean\n",
        "std = raw_data[:num_train_samples].std(axis=0)\n",
        "raw_data /= std"
      ]
    },
    {
      "cell_type": "code",
      "execution_count": 8,
      "metadata": {
        "id": "W7y1PDhvOBA2",
        "outputId": "d07a436a-967b-4d06-f358-fba5af63dd31",
        "colab": {
          "base_uri": "https://localhost:8080/"
        }
      },
      "outputs": [
        {
          "output_type": "stream",
          "name": "stdout",
          "text": [
            "[0, 1, 2] 3\n",
            "[1, 2, 3] 4\n",
            "[2, 3, 4] 5\n",
            "[3, 4, 5] 6\n",
            "[4, 5, 6] 7\n"
          ]
        }
      ],
      "source": [
        "import numpy as np\n",
        "from tensorflow import keras\n",
        "int_sequence = np.arange(10)\n",
        "dummy_dataset = keras.utils.timeseries_dataset_from_array(\n",
        "    data=int_sequence[:-3],\n",
        "    targets=int_sequence[3:],\n",
        "    sequence_length=3,\n",
        "    batch_size=2,\n",
        ")\n",
        "\n",
        "for inputs, targets in dummy_dataset:\n",
        "    for i in range(inputs.shape[0]):\n",
        "        print([int(x) for x in inputs[i]], int(targets[i]))"
      ]
    },
    {
      "cell_type": "markdown",
      "metadata": {
        "id": "30sOeUgvOBA2"
      },
      "source": [
        "**Instantiating datasets for training, validation, and testing**"
      ]
    },
    {
      "cell_type": "code",
      "execution_count": 9,
      "metadata": {
        "id": "YuSCkQ6yOBA3"
      },
      "outputs": [],
      "source": [
        "sampling_rate = 6\n",
        "sequence_length = 120\n",
        "delay = sampling_rate * (sequence_length + 24 - 1)\n",
        "batch_size = 256\n",
        "\n",
        "train_dataset = keras.utils.timeseries_dataset_from_array(\n",
        "    raw_data[:-delay],\n",
        "    targets=temperature[delay:],\n",
        "    sampling_rate=sampling_rate,\n",
        "    sequence_length=sequence_length,\n",
        "    shuffle=True,\n",
        "    batch_size=batch_size,\n",
        "    start_index=0,\n",
        "    end_index=num_train_samples)\n",
        "\n",
        "val_dataset = keras.utils.timeseries_dataset_from_array(\n",
        "    raw_data[:-delay],\n",
        "    targets=temperature[delay:],\n",
        "    sampling_rate=sampling_rate,\n",
        "    sequence_length=sequence_length,\n",
        "    shuffle=True,\n",
        "    batch_size=batch_size,\n",
        "    start_index=num_train_samples,\n",
        "    end_index=num_train_samples + num_val_samples)\n",
        "\n",
        "test_dataset = keras.utils.timeseries_dataset_from_array(\n",
        "    raw_data[:-delay],\n",
        "    targets=temperature[delay:],\n",
        "    sampling_rate=sampling_rate,\n",
        "    sequence_length=sequence_length,\n",
        "    shuffle=True,\n",
        "    batch_size=batch_size,\n",
        "    start_index=num_train_samples + num_val_samples)"
      ]
    },
    {
      "cell_type": "markdown",
      "metadata": {
        "id": "xmxdIMW5OBA3"
      },
      "source": [
        "**Inspecting the output of one of our datasets**"
      ]
    },
    {
      "cell_type": "code",
      "execution_count": 10,
      "metadata": {
        "id": "7k9bKKp1OBA3",
        "outputId": "5b45b8d9-427e-4cc7-9723-25427a57556d",
        "colab": {
          "base_uri": "https://localhost:8080/"
        }
      },
      "outputs": [
        {
          "output_type": "stream",
          "name": "stdout",
          "text": [
            "samples shape: (256, 120, 14)\n",
            "targets shape: (256,)\n"
          ]
        }
      ],
      "source": [
        "for samples, targets in train_dataset:\n",
        "    print(\"samples shape:\", samples.shape)\n",
        "    print(\"targets shape:\", targets.shape)\n",
        "    break"
      ]
    },
    {
      "cell_type": "markdown",
      "metadata": {
        "id": "xaTAzgCqOBA3"
      },
      "source": [
        "### A common-sense, non-machine-learning baseline"
      ]
    },
    {
      "cell_type": "markdown",
      "metadata": {
        "id": "2Jz271XSOBA3"
      },
      "source": [
        "**Computing the common-sense baseline MAE**"
      ]
    },
    {
      "cell_type": "code",
      "execution_count": 11,
      "metadata": {
        "id": "hTVPSr8NOBA3",
        "outputId": "c27bc96e-4b38-4d89-b3ed-d2bf61464a8b",
        "colab": {
          "base_uri": "https://localhost:8080/"
        }
      },
      "outputs": [
        {
          "output_type": "stream",
          "name": "stdout",
          "text": [
            "Validation MAE: 2.44\n",
            "Test MAE: 2.62\n"
          ]
        }
      ],
      "source": [
        "def evaluate_naive_method(dataset):\n",
        "    total_abs_err = 0.\n",
        "    samples_seen = 0\n",
        "    for samples, targets in dataset:\n",
        "        preds = samples[:, -1, 1] * std[1] + mean[1]\n",
        "        total_abs_err += np.sum(np.abs(preds - targets))\n",
        "        samples_seen += samples.shape[0]\n",
        "    return total_abs_err / samples_seen\n",
        "\n",
        "print(f\"Validation MAE: {evaluate_naive_method(val_dataset):.2f}\")\n",
        "print(f\"Test MAE: {evaluate_naive_method(test_dataset):.2f}\")"
      ]
    },
    {
      "cell_type": "markdown",
      "metadata": {
        "id": "wow4Po4oOBA3"
      },
      "source": [
        "### Let's try a basic machine-learning model"
      ]
    },
    {
      "cell_type": "markdown",
      "metadata": {
        "id": "y-y7XTgwOBA4"
      },
      "source": [
        "**Training and evaluating a densely connected model**"
      ]
    },
    {
      "cell_type": "code",
      "execution_count": 12,
      "metadata": {
        "id": "sQcjzD5FOBA4",
        "outputId": "0b7615fb-a682-4e48-9dbd-8639846bb866",
        "colab": {
          "base_uri": "https://localhost:8080/"
        }
      },
      "outputs": [
        {
          "output_type": "stream",
          "name": "stdout",
          "text": [
            "Epoch 1/10\n",
            "819/819 [==============================] - 47s 52ms/step - loss: 11.7208 - mae: 2.6642 - val_loss: 10.9483 - val_mae: 2.5955\n",
            "Epoch 2/10\n",
            "819/819 [==============================] - 48s 59ms/step - loss: 8.6725 - mae: 2.3176 - val_loss: 9.7468 - val_mae: 2.4543\n",
            "Epoch 3/10\n",
            "819/819 [==============================] - 49s 60ms/step - loss: 8.0490 - mae: 2.2289 - val_loss: 11.2533 - val_mae: 2.6530\n",
            "Epoch 4/10\n",
            "819/819 [==============================] - 52s 63ms/step - loss: 7.6744 - mae: 2.1751 - val_loss: 10.7280 - val_mae: 2.5806\n",
            "Epoch 5/10\n",
            "819/819 [==============================] - 44s 54ms/step - loss: 7.4074 - mae: 2.1370 - val_loss: 11.6536 - val_mae: 2.6953\n",
            "Epoch 6/10\n",
            "819/819 [==============================] - 50s 60ms/step - loss: 7.1727 - mae: 2.1029 - val_loss: 11.6265 - val_mae: 2.6893\n",
            "Epoch 7/10\n",
            "819/819 [==============================] - 55s 67ms/step - loss: 7.0138 - mae: 2.0813 - val_loss: 10.7320 - val_mae: 2.5828\n",
            "Epoch 8/10\n",
            "819/819 [==============================] - 48s 59ms/step - loss: 6.8672 - mae: 2.0584 - val_loss: 10.2917 - val_mae: 2.5218\n",
            "Epoch 9/10\n",
            "819/819 [==============================] - 49s 59ms/step - loss: 6.7521 - mae: 2.0412 - val_loss: 11.9933 - val_mae: 2.7303\n",
            "Epoch 10/10\n",
            "819/819 [==============================] - 53s 64ms/step - loss: 6.6627 - mae: 2.0271 - val_loss: 10.2073 - val_mae: 2.4999\n",
            "405/405 [==============================] - 14s 33ms/step - loss: 10.9459 - mae: 2.5969\n",
            "Test MAE: 2.60\n"
          ]
        }
      ],
      "source": [
        "from tensorflow import keras\n",
        "from tensorflow.keras import layers\n",
        "\n",
        "inputs = keras.Input(shape=(sequence_length, raw_data.shape[-1]))\n",
        "x = layers.Flatten()(inputs)\n",
        "x = layers.Dense(16, activation=\"relu\")(x)\n",
        "outputs = layers.Dense(1)(x)\n",
        "model = keras.Model(inputs, outputs)\n",
        "\n",
        "callbacks = [\n",
        "    keras.callbacks.ModelCheckpoint(\"jena_dense.keras\",\n",
        "                                    save_best_only=True)\n",
        "]\n",
        "model.compile(optimizer=\"rmsprop\", loss=\"mse\", metrics=[\"mae\"])\n",
        "history = model.fit(train_dataset,\n",
        "                    epochs=10,\n",
        "                    validation_data=val_dataset,\n",
        "                    callbacks=callbacks)\n",
        "\n",
        "model = keras.models.load_model(\"jena_dense.keras\")\n",
        "print(f\"Test MAE: {model.evaluate(test_dataset)[1]:.2f}\")"
      ]
    },
    {
      "cell_type": "markdown",
      "metadata": {
        "id": "Rd86Kb51OBA4"
      },
      "source": [
        "**Plotting results**"
      ]
    },
    {
      "cell_type": "code",
      "execution_count": 13,
      "metadata": {
        "id": "ajhZ-kHHOBA4",
        "outputId": "06cb1f07-89cd-4ce6-e1e9-c40a063bb410",
        "colab": {
          "base_uri": "https://localhost:8080/",
          "height": 452
        }
      },
      "outputs": [
        {
          "output_type": "display_data",
          "data": {
            "text/plain": [
              "<Figure size 640x480 with 1 Axes>"
            ],
            "image/png": "[encoded data removed]"
          },
          "metadata": {}
        }
      ],
      "source": [
        "import matplotlib.pyplot as plt\n",
        "loss = history.history[\"mae\"]\n",
        "val_loss = history.history[\"val_mae\"]\n",
        "epochs = range(1, len(loss) + 1)\n",
        "plt.figure()\n",
        "plt.plot(epochs, loss, \"bo\", label=\"Training MAE\")\n",
        "plt.plot(epochs, val_loss, \"b\", label=\"Validation MAE\")\n",
        "plt.title(\"Training and validation MAE\")\n",
        "plt.legend()\n",
        "plt.show()"
      ]
    },
    {
      "cell_type": "markdown",
      "metadata": {
        "id": "ZlLmQVKsOBA4"
      },
      "source": [
        "### Let's try a 1D convolutional model"
      ]
    },
    {
      "cell_type": "code",
      "execution_count": 14,
      "metadata": {
        "id": "TEzM-RJ4OBA4",
        "outputId": "c2525bbb-9c11-4c57-ab21-0fc15dc88657",
        "colab": {
          "base_uri": "https://localhost:8080/"
        }
      },
      "outputs": [
        {
          "output_type": "stream",
          "name": "stdout",
          "text": [
            "Epoch 1/10\n",
            "819/819 [==============================] - 50s 53ms/step - loss: 24.3996 - mae: 3.8458 - val_loss: 16.8061 - val_mae: 3.2767\n",
            "Epoch 2/10\n",
            "819/819 [==============================] - 47s 57ms/step - loss: 16.0034 - mae: 3.1643 - val_loss: 15.5534 - val_mae: 3.1139\n",
            "Epoch 3/10\n",
            "819/819 [==============================] - 53s 65ms/step - loss: 14.5355 - mae: 3.0044 - val_loss: 14.8516 - val_mae: 3.0470\n",
            "Epoch 4/10\n",
            "819/819 [==============================] - 47s 57ms/step - loss: 13.5339 - mae: 2.8977 - val_loss: 15.0849 - val_mae: 3.0658\n",
            "Epoch 5/10\n",
            "819/819 [==============================] - 49s 60ms/step - loss: 12.7465 - mae: 2.8123 - val_loss: 15.9991 - val_mae: 3.1617\n",
            "Epoch 6/10\n",
            "819/819 [==============================] - 54s 66ms/step - loss: 12.1209 - mae: 2.7438 - val_loss: 14.6591 - val_mae: 3.0260\n",
            "Epoch 7/10\n",
            "819/819 [==============================] - 54s 66ms/step - loss: 11.6199 - mae: 2.6868 - val_loss: 16.5706 - val_mae: 3.2010\n",
            "Epoch 8/10\n",
            "819/819 [==============================] - 54s 66ms/step - loss: 11.2371 - mae: 2.6401 - val_loss: 15.3472 - val_mae: 3.0965\n",
            "Epoch 9/10\n",
            "819/819 [==============================] - 50s 61ms/step - loss: 10.8187 - mae: 2.5884 - val_loss: 16.8971 - val_mae: 3.2293\n",
            "Epoch 10/10\n",
            "819/819 [==============================] - 50s 61ms/step - loss: 10.4516 - mae: 2.5424 - val_loss: 15.1917 - val_mae: 3.0806\n",
            "405/405 [==============================] - 16s 38ms/step - loss: 16.4191 - mae: 3.1924\n",
            "Test MAE: 3.19\n"
          ]
        }
      ],
      "source": [
        "inputs = keras.Input(shape=(sequence_length, raw_data.shape[-1]))\n",
        "x = layers.Conv1D(8, 24, activation=\"relu\")(inputs)\n",
        "x = layers.MaxPooling1D(2)(x)\n",
        "x = layers.Conv1D(8, 12, activation=\"relu\")(x)\n",
        "x = layers.MaxPooling1D(2)(x)\n",
        "x = layers.Conv1D(8, 6, activation=\"relu\")(x)\n",
        "x = layers.GlobalAveragePooling1D()(x)\n",
        "outputs = layers.Dense(1)(x)\n",
        "model = keras.Model(inputs, outputs)\n",
        "\n",
        "callbacks = [\n",
        "    keras.callbacks.ModelCheckpoint(\"jena_conv.keras\",\n",
        "                                    save_best_only=True)\n",
        "]\n",
        "model.compile(optimizer=\"rmsprop\", loss=\"mse\", metrics=[\"mae\"])\n",
        "history = model.fit(train_dataset,\n",
        "                    epochs=10,\n",
        "                    validation_data=val_dataset,\n",
        "                    callbacks=callbacks)\n",
        "\n",
        "model = keras.models.load_model(\"jena_conv.keras\")\n",
        "print(f\"Test MAE: {model.evaluate(test_dataset)[1]:.2f}\")"
      ]
    },
    {
      "cell_type": "markdown",
      "metadata": {
        "id": "ShhVnyBsOBA4"
      },
      "source": [
        "### A first recurrent baseline"
      ]
    },
    {
      "cell_type": "markdown",
      "metadata": {
        "id": "1azsvTD1OBA4"
      },
      "source": [
        "**A simple LSTM-based model**"
      ]
    },
    {
      "cell_type": "code",
      "execution_count": 15,
      "metadata": {
        "id": "YXWYflf4OBA4",
        "outputId": "b1e2badf-d8b3-4614-df8e-10e29de8faa1",
        "colab": {
          "base_uri": "https://localhost:8080/"
        }
      },
      "outputs": [
        {
          "output_type": "stream",
          "name": "stdout",
          "text": [
            "Epoch 1/10\n",
            "819/819 [==============================] - 64s 73ms/step - loss: 46.3600 - mae: 4.9614 - val_loss: 12.9884 - val_mae: 2.7233\n",
            "Epoch 2/10\n",
            "819/819 [==============================] - 60s 73ms/step - loss: 11.1926 - mae: 2.5971 - val_loss: 9.5275 - val_mae: 2.4036\n",
            "Epoch 3/10\n",
            "819/819 [==============================] - 57s 69ms/step - loss: 9.9426 - mae: 2.4604 - val_loss: 9.5737 - val_mae: 2.4144\n",
            "Epoch 4/10\n",
            "819/819 [==============================] - 56s 68ms/step - loss: 9.5896 - mae: 2.4144 - val_loss: 9.7395 - val_mae: 2.4321\n",
            "Epoch 5/10\n",
            "819/819 [==============================] - 58s 70ms/step - loss: 9.3304 - mae: 2.3779 - val_loss: 9.9081 - val_mae: 2.4492\n",
            "Epoch 6/10\n",
            "819/819 [==============================] - 53s 65ms/step - loss: 9.1420 - mae: 2.3537 - val_loss: 9.9554 - val_mae: 2.4526\n",
            "Epoch 7/10\n",
            "819/819 [==============================] - 51s 62ms/step - loss: 8.9661 - mae: 2.3293 - val_loss: 9.8842 - val_mae: 2.4405\n",
            "Epoch 8/10\n",
            "819/819 [==============================] - 54s 66ms/step - loss: 8.8195 - mae: 2.3086 - val_loss: 10.1436 - val_mae: 2.4786\n",
            "Epoch 9/10\n",
            "819/819 [==============================] - 61s 74ms/step - loss: 8.7360 - mae: 2.2960 - val_loss: 10.1682 - val_mae: 2.4758\n",
            "Epoch 10/10\n",
            "819/819 [==============================] - 52s 63ms/step - loss: 8.6266 - mae: 2.2792 - val_loss: 10.0487 - val_mae: 2.4581\n",
            "405/405 [==============================] - 17s 39ms/step - loss: 11.1953 - mae: 2.6372\n",
            "Test MAE: 2.64\n"
          ]
        }
      ],
      "source": [
        "inputs = keras.Input(shape=(sequence_length, raw_data.shape[-1]))\n",
        "x = layers.LSTM(16)(inputs)\n",
        "outputs = layers.Dense(1)(x)\n",
        "model = keras.Model(inputs, outputs)\n",
        "\n",
        "callbacks = [\n",
        "    keras.callbacks.ModelCheckpoint(\"jena_lstm.keras\",\n",
        "                                    save_best_only=True)\n",
        "]\n",
        "model.compile(optimizer=\"rmsprop\", loss=\"mse\", metrics=[\"mae\"])\n",
        "history = model.fit(train_dataset,\n",
        "                    epochs=10,\n",
        "                    validation_data=val_dataset,\n",
        "                    callbacks=callbacks)\n",
        "\n",
        "model = keras.models.load_model(\"jena_lstm.keras\")\n",
        "print(f\"Test MAE: {model.evaluate(test_dataset)[1]:.2f}\")"
      ]
    },
    {
      "cell_type": "markdown",
      "metadata": {
        "id": "ndem-9gxOBA5"
      },
      "source": [
        "## Understanding recurrent neural networks"
      ]
    },
    {
      "cell_type": "markdown",
      "source": [
        "A major characteristic of all neural networks you’ve seen so far, such as densely connected networks and convnets, is that they have no memory. Each input shown to them is processed independently, with no state kept between inputs. With such networks, in order to process a sequence or a temporal series of data points, you have to show the entire sequence to the network at once: turn it into a single data point. For instance, this is what we did in the densely connected network example: we flattened our five days of data into a single large vector and processed it in one go. Such networks are called *feedforward networks*.\n",
        "\n",
        " In contrast, as you're reading the present sentence, you're processing it word by word—or rather, eye saccade by eye saccade—while keeping memories of what came before; this gives you a fluid representation of the meaning conveyed by this sentence.\n",
        "\n",
        "A *recurrent neural network* (RNN) adopts the same principle, albeit in an extremely simplified version: it processes sequences by iterating through the sequence elements and maintaining a *state* that contains information relative to what it has seen so far. In effect, an RNN is a type of neural network that has an internal *loop* (see figure below)."
      ],
      "metadata": {
        "id": "ub5uaU7ePK58"
      }
    },
    {
      "cell_type": "markdown",
      "source": [
        "![RNN.png](data:image/png;base64,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)"
      ],
      "metadata": {
        "id": "ZJHhGv-7RNOs"
      }
    },
    {
      "cell_type": "markdown",
      "source": [
        "The state of the RNN is reset between processing two different, independent sequences (such as two samples in a batch), so you still consider one sequence to be a single data point: a single input to the network. What changes is that this data point is no longer processed in a single step; rather, the network internally loops over sequence elements.\n",
        "\n",
        "To make these notions of *loop* and *state* clear, let's implement the forward pass of a toy RNN. This RNN takes as input a sequence of vectors, which we'll encode as a rank-2 tensor of size `(timesteps, input_features)`. It loops over timesteps, and at each timestep, it considers its current state at t and the input at `t` (of shape `(input_features,)`, and combines them to obtain the output at `t`. We'll then set the state for the next step\n",
        "to be this previous output. For the first timestep, the previous output isn't defined; hence, there is no current state. So we'll initialize the state as an all-zero vector called the initial state of the network.\n",
        "\n",
        "In pseudocode, this is the RNN."
      ],
      "metadata": {
        "id": "wR1VMX-0RNXB"
      }
    },
    {
      "cell_type": "markdown",
      "source": [
        "**Pseudocode RNN**"
      ],
      "metadata": {
        "id": "S9Of7G-JRfni"
      }
    },
    {
      "cell_type": "code",
      "source": [
        "state_t = 0                            # the state at t\n",
        "for input_t in input_sequence:         # iterate over sequence elements\n",
        " output_t = f(input_t, state_t)\n",
        " state_t = output_t                    # The previous output becomes the state for the next iteration"
      ],
      "metadata": {
        "id": "SaUa_2STRd7a"
      },
      "execution_count": null,
      "outputs": []
    },
    {
      "cell_type": "markdown",
      "source": [
        "You can even flesh out the function `f`: the transformation of the input and state into an output will be parameterized by two matrices, `W` and `U`, and a bias vector. It's similar to the transformation operated by a densely connected layer in a feedforward network."
      ],
      "metadata": {
        "id": "2B2gow0hSHCE"
      }
    },
    {
      "cell_type": "markdown",
      "source": [
        "**More-detailed pseudocode for the RNN**"
      ],
      "metadata": {
        "id": "xaIW3VUQSP0L"
      }
    },
    {
      "cell_type": "code",
      "source": [
        "state_t = 0\n",
        "for input_t in input_sequence:\n",
        " output_t = activation(dot(W, input_t) + dot(U, state_t) + b)\n",
        " state_t = output_t"
      ],
      "metadata": {
        "id": "8yj7plO2STCj"
      },
      "execution_count": null,
      "outputs": []
    },
    {
      "cell_type": "markdown",
      "source": [
        "To make these notions absolutely unambiguous, let’s write a naive NumPy implementation of the forward pass of the simple RNN."
      ],
      "metadata": {
        "id": "gtTt2yG8SZnz"
      }
    },
    {
      "cell_type": "markdown",
      "metadata": {
        "id": "FY_oFfJPOBA5"
      },
      "source": [
        "**NumPy implementation of a simple RNN**"
      ]
    },
    {
      "cell_type": "code",
      "execution_count": 16,
      "metadata": {
        "id": "H5fnZYkqOBA5"
      },
      "outputs": [],
      "source": [
        "import numpy as np\n",
        "timesteps = 100                                                                 # Number of timesteps in the input sequence\n",
        "input_features = 32                                                             # Dimensionality of the input feature space\n",
        "output_features = 64                                                            # Dimensionality of the ouput feature space\n",
        "inputs = np.random.random((timesteps, input_features))\n",
        "state_t = np.zeros((output_features,))                                          # Initial state: an all-zero vector\n",
        "W = np.random.random((output_features, input_features))                         # Creates random weight matrices\n",
        "U = np.random.random((output_features, output_features))\n",
        "b = np.random.random((output_features,))\n",
        "successive_outputs = []\n",
        "for input_t in inputs:                                                          # input_t is a vector of shape (input_features,).\n",
        "    output_t = np.tanh(np.dot(W, input_t) + np.dot(U, state_t) + b)             # Combines the input with the current state (the\n",
        "                                                                                # previous output) to obtain the current output.\n",
        "                                                                                # We use tanh to addnon-linearity (we could use\n",
        "                                                                                # any other activation function).\n",
        "    successive_outputs.append(output_t)                                         # Stores this output in a list\n",
        "    state_t = output_t                                                          # Updates the state of the network for the next timestep\n",
        "final_output_sequence = np.stack(successive_outputs, axis=0)                    # The final output is a rank-2 tensor of shape\n",
        "                                                                                # (timesteps, output_features)."
      ]
    },
    {
      "cell_type": "markdown",
      "source": [
        "That's easy enough. In summary, an RNN is a for loop that reuses quantities computed during the previous iteration of the loop, nothing more. Of course, there are many different RNNs fitting this definition that you could build—this example is one of the simplest RNN formulations. RNNs are characterized by their step function, such as the following function in this case (see figure below).\n",
        "\n",
        "`output_t = np.tanh(np.dot(W, input_t) + np.dot(U, state_t) + b)`"
      ],
      "metadata": {
        "id": "XYC7J0LXTigu"
      }
    },
    {
      "cell_type": "markdown",
      "source": [
        "![RNN_Time.png](data:image/png;base64,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)"
      ],
      "metadata": {
        "id": "xsBAPkQITxkF"
      }
    },
    {
      "cell_type": "markdown",
      "source": [
        "*Remark:* In this example, the final output is a rank-2 tensor of shape `(timesteps, output_features)`, where each timestep is the output of the loop at time `t`. Each timestep `t` in the output tensor contains information about timesteps 0 to t in the input sequence—about the entire past. For this reason, in many cases, you don't need this full sequence of outputs; you just need the last output (`output_t` at the end of the loop), because it already contains information about the entire sequence."
      ],
      "metadata": {
        "id": "ROzzJoemUFWf"
      }
    },
    {
      "cell_type": "markdown",
      "metadata": {
        "id": "2WLfaZmLOBA8"
      },
      "source": [
        "### A recurrent layer in Keras"
      ]
    },
    {
      "cell_type": "markdown",
      "source": [
        "The process we just naively implemented in NumPy corresponds to an actual Keras layer—the `SimpleRNN` layer.\n",
        "\n",
        "There is one minor difference: SimpleRNN processes batches of sequences, like all other Keras layers, not a single sequence as in the NumPy example. This means it takes inputs of shape `(batch_size, timesteps,input_features)`, rather than `(timesteps,input_features)`. When specifying the shape argument of the initial `Input()`, note that you can set the `timesteps` entry to `None`, which enables your network to process\n",
        "sequences of arbitrary length."
      ],
      "metadata": {
        "id": "2GMb4iocUann"
      }
    },
    {
      "cell_type": "markdown",
      "metadata": {
        "id": "TfRqUm1gOBA8"
      },
      "source": [
        "**An RNN layer that can process sequences of any length**"
      ]
    },
    {
      "cell_type": "code",
      "execution_count": 17,
      "metadata": {
        "id": "oxJVeXh3OBA8"
      },
      "outputs": [],
      "source": [
        "num_features = 14\n",
        "inputs = keras.Input(shape=(None, num_features))\n",
        "outputs = layers.SimpleRNN(16)(inputs)"
      ]
    },
    {
      "cell_type": "markdown",
      "source": [
        "This is especially useful if your model is meant to process sequences of variable length. However, if all of your sequences have the same length, I recommend specifying a complete input shape, since it enables `model.summary()` to display output length information, which is always nice, and it can unlock some performance optimizations.\n",
        "\n",
        "All recurrent layers in Keras (`SimpleRNN`, `LSTM`, and `GRU`) can be run in two different modes: they can return either full sequences of successive outputs for each timestep (a rank-3 tensor of shape `(batch_size, timesteps, output_features)`) or return only the last output for each input sequence (a rank-2 tensor of shape `(batch_size, output_features)`). These two modes are controlled by the return_sequences constructor argument. Let's look at an example that uses SimpleRNN and returns only the output at the last timestep."
      ],
      "metadata": {
        "id": "YQWCoinaU2ml"
      }
    },
    {
      "cell_type": "markdown",
      "metadata": {
        "id": "x-nDeZriOBA9"
      },
      "source": [
        "**An RNN layer that returns only its last output step**"
      ]
    },
    {
      "cell_type": "code",
      "execution_count": 18,
      "metadata": {
        "id": "qu5usIoIOBA9",
        "outputId": "1000645c-634f-4cb7-8424-b362f7482359",
        "colab": {
          "base_uri": "https://localhost:8080/"
        }
      },
      "outputs": [
        {
          "output_type": "stream",
          "name": "stdout",
          "text": [
            "(None, 16)\n"
          ]
        }
      ],
      "source": [
        "num_features = 14\n",
        "steps = 120\n",
        "inputs = keras.Input(shape=(steps, num_features))\n",
        "outputs = layers.SimpleRNN(16, return_sequences=False)(inputs)                  # Note that return_sequences=False is the default.\n",
        "print(outputs.shape)"
      ]
    },
    {
      "cell_type": "markdown",
      "source": [
        "The following example returns the full state sequence."
      ],
      "metadata": {
        "id": "6iJR61sGVZqV"
      }
    },
    {
      "cell_type": "markdown",
      "metadata": {
        "id": "_MGAAmsNOBA9"
      },
      "source": [
        "**An RNN layer that returns its full output sequence**"
      ]
    },
    {
      "cell_type": "code",
      "execution_count": 19,
      "metadata": {
        "id": "AZ4u7YuMOBA9",
        "outputId": "fa841a11-4dda-4145-a743-25dde898dbcd",
        "colab": {
          "base_uri": "https://localhost:8080/"
        }
      },
      "outputs": [
        {
          "output_type": "stream",
          "name": "stdout",
          "text": [
            "(None, 120, 16)\n"
          ]
        }
      ],
      "source": [
        "num_features = 14\n",
        "steps = 120\n",
        "inputs = keras.Input(shape=(steps, num_features))\n",
        "outputs = layers.SimpleRNN(16, return_sequences=True)(inputs)\n",
        "print(outputs.shape)"
      ]
    },
    {
      "cell_type": "markdown",
      "source": [
        "It's sometimes useful to stack several recurrent layers one after the other in order to increase the representational power of a network. In such a setup, you have to get all of the intermediate layers to return a full sequence of outputs."
      ],
      "metadata": {
        "id": "DS3QLuunVcwu"
      }
    },
    {
      "cell_type": "markdown",
      "metadata": {
        "id": "zuvhpsr2OBA9"
      },
      "source": [
        "**Stacking RNN layers**"
      ]
    },
    {
      "cell_type": "code",
      "execution_count": 20,
      "metadata": {
        "id": "8HqXTCIoOBA9"
      },
      "outputs": [],
      "source": [
        "inputs = keras.Input(shape=(steps, num_features))\n",
        "x = layers.SimpleRNN(16, return_sequences=True)(inputs)\n",
        "x = layers.SimpleRNN(16, return_sequences=True)(x)\n",
        "outputs = layers.SimpleRNN(16)(x)"
      ]
    },
    {
      "cell_type": "markdown",
      "source": [
        "In practice, you'll rarely work with the `SimpleRNN` layer. It's generally too simplistic to be of real use. In particular, `SimpleRNN` has a major issue: although it should theoretically be able to retain at time t information about inputs seen many timesteps before, such\n",
        "long-term dependencies prove impossible to learn in practice. This is due to the *vanishing gradient problem*, an effect that is similar to what is observed with non-recurrent networks (feedforward networks) that are many layers deep: as you keep adding layers to a network, the network eventually becomes untrainable. The theoretical reasons for this effect were studied by Hochreiter, Schmidhuber, and Bengio in the early 1990s.\n",
        "\n",
        "Thankfully, SimpleRNN isn't the only recurrent layer available in Keras. There are two others, *LSTM* and *GRU*, which were designed to address these issues.\n",
        "\n",
        "Let's consider the *LSTM* layer. The underlying Long Short-Term Memory (LSTM)algorithm was developed by Hochreiter and Schmidhuber in 1997;\n",
        "it was the culmination of their research on the vanishing gradient problem.\n",
        "\n",
        "This layer is a variant of the `SimpleRNN` layer you already know about; it adds a way to carry information across many timesteps. Imagine a conveyor belt running parallel to the sequence you're processing. Information from the sequence can jump onto the conveyor belt at any point, be transported to a later timestep, and jump off, intact, when you need it. This is essentially what LSTM does: it saves information for later, thus preventing older signals from gradually vanishing during processing. This should remind you of *residual connections*, which you learned about in chapter 9: it's pretty much the same idea.\n",
        "\n",
        "To understand this process in detail, let's start from the `SimpleRNN` cell (see figure below). Because you'll have a lot of weight matrices, index the `W` and `U` matrices in the cell, with the letter `o` (`Wo` and `Uo`) for output."
      ],
      "metadata": {
        "id": "kSVP4ruhVp_c"
      }
    },
    {
      "cell_type": "markdown",
      "source": [
        "![LSTM.png](data:image/png;base64,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)"
      ],
      "metadata": {
        "id": "Z3OsnpMQWpqh"
      }
    },
    {
      "cell_type": "markdown",
      "source": [
        "Let's add to this picture an additional data flow that carries information across timesteps. Call its values at different timesteps `c_t`, where C stands for *carry*. This information will have the following impact on the cell: it will be combined with the input connection and the recurrent connection (via a dense transformation: a dot product with a weight matrix followed by a bias add and the application of an activation function), and it will affect the state being sent to the next timestep (via an activation function and a multiplication operation). Conceptually, the carry dataflow is a way to modulate the next output and the next state (see figure below)."
      ],
      "metadata": {
        "id": "9AV4duVkXB9g"
      }
    },
    {
      "cell_type": "markdown",
      "source": [
        "![LSTM_2.png](data:image/png;base64,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)"
      ],
      "metadata": {
        "id": "IkAAJ_2VXRu3"
      }
    },
    {
      "cell_type": "markdown",
      "source": [
        "Now the subtlety—the way the next value of the carry dataflow is computed. It involves three distinct transformations. All three have the form of a `SimpleRNN` cell:\n",
        "\n",
        "`y = activation(dot(state_t, U) + dot(input_t, W) + b)`\n",
        "\n",
        "But all three transformations have their own weight matrices, which we’ll index with the letters `i`, `f`, and `k`. Here's what we have so far (it may seem a bit arbitrary, but bear with me)."
      ],
      "metadata": {
        "id": "7YJZwyFxXhVU"
      }
    },
    {
      "cell_type": "markdown",
      "source": [
        "**Pseudocode details of the LSTM architecture (1/2)**"
      ],
      "metadata": {
        "id": "p0zsuMsDX7sv"
      }
    },
    {
      "cell_type": "code",
      "source": [
        "output_t = activation(dot(state_t, Uo) + dot(input_t, Wo) + dot(c_t, Vo) + bo)\n",
        "i_t = activation(dot(state_t, Ui) + dot(input_t, Wi) + bi)\n",
        "f_t = activation(dot(state_t, Uf) + dot(input_t, Wf) + bf)\n",
        "k_t = activation(dot(state_t, Uk) + dot(input_t, Wk) + bk)"
      ],
      "metadata": {
        "id": "ZGIQicxfX6mo"
      },
      "execution_count": null,
      "outputs": []
    },
    {
      "cell_type": "markdown",
      "source": [
        "**Pseudocode details of the LSTM architecture (2/2)**"
      ],
      "metadata": {
        "id": "d4uzo5OnYCto"
      }
    },
    {
      "cell_type": "code",
      "source": [
        "c_t+1 = i_t * k_t + c_t * f_t"
      ],
      "metadata": {
        "id": "Flcv15OZYFW_"
      },
      "execution_count": null,
      "outputs": []
    },
    {
      "cell_type": "markdown",
      "source": [
        "Add this as shown in figure 10.10, and that's it. Not so complicated—merely a tad complex."
      ],
      "metadata": {
        "id": "LBMSkS0tYHcA"
      }
    },
    {
      "cell_type": "markdown",
      "source": [
        "![LSTM_Anatomy.png](data:image/png;base64,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)"
      ],
      "metadata": {
        "id": "cPANON6mYPXY"
      }
    },
    {
      "cell_type": "markdown",
      "source": [
        "If you want to get philosophical, you can interpret what each of these operations is meant to do. For instance, you can say that multiplying `c_t` and `f_t` is a way to deliberately forget irrelevant information in the carry dataflow. Meanwhile, `i_t` and `k_t` provide information about the present, updating the carry track with new information.\n",
        "\n",
        "But at the end of the day, these interpretations don't mean much, because what these operations *actually* do is determined by the contents of the weights parameterizing them; and the weights are learned in an end-to-end fashion, starting over with each training round, making it impossible to credit this or that operation with a specific purpose. The specification of an RNN cell (as just described) determines your hypothesis space—the space in which you'll search for a good model configuration during training—but it doesn't determine what the cell does; that is up to the cell weights. The same cell with different weights can be doing very different things. So the combination of operations making up an RNN cell is better interpreted as a set of *constraints* on your search, not as a *design* in an engineering sense.\n",
        "\n",
        "Arguably, the choice of such constraints—the question of how to implement RNN cells—is better left to optimization algorithms (like genetic algorithms or reinforcement learning processes) than to human engineers. In the future, that's how we'll build our models. In summary: you don't need to understand anything about the specific architecture of an LSTM cell; as a human, it shouldn't be your job to understand it. Just keep in mind what the LSTM cell is meant to do: allow past information to be reinjected at a later time, thus fighting the vanishing-gradient problem."
      ],
      "metadata": {
        "id": "NkW6pBAdYcXX"
      }
    },
    {
      "cell_type": "markdown",
      "metadata": {
        "id": "xwK9GyPLOBA9"
      },
      "source": [
        "## Advanced use of recurrent neural networks"
      ]
    },
    {
      "cell_type": "markdown",
      "source": [
        "We'll now cover the following:\n",
        "- *Recurrent dropout*—This is a variant of dropout, used to fight overfitting in recurrent layers.\n",
        "- *Stacking recurrent layers*—This increases the representational power of the model\n",
        "(at the cost of higher computational loads).\n",
        "- *Bidirectional recurrent layers*—These present the same information to a recurrent\n",
        "network in different ways, increasing accuracy and mitigating forgetting issues.\n",
        "\n",
        "We'll use these techniques to refine our temperature-forecasting RNN."
      ],
      "metadata": {
        "id": "AgOefCR-ZFGY"
      }
    },
    {
      "cell_type": "markdown",
      "metadata": {
        "id": "f9FS8tZHOBA-"
      },
      "source": [
        "### Using recurrent dropout to fight overfitting"
      ]
    },
    {
      "cell_type": "markdown",
      "source": [
        "Let's go back to the LSTM-based model we used in section 10.2.5—our first model able to beat the common-sense baseline. If you look at the training and validation curves (figure 10.5), it's evident that the model is quickly overfitting, despite only having very few units: the training and validation losses start to diverge considerably after a few epochs. You're already familiar with a classic technique for fighting this phenomenon: dropout, which randomly zeros out input units of a layer in order to break happenstance correlations in the training data that the layer is exposed to. But how to correctly apply dropout in recurrent networks isn't a trivial question.\n"
      ],
      "metadata": {
        "id": "cled1ZcBZaIT"
      }
    },
    {
      "cell_type": "markdown",
      "source": [
        "It has long been known that applying dropout before a recurrent layer hinders learning rather than helping with regularization. In 2016, Yarin Gal, as part of his PhD thesis on Bayesian deep learning, determined the proper way to use dropout with a recurrent network: the same dropout mask (the same pattern of dropped units) should be applied at every timestep, instead of using a dropout mask that varies randomly from timestep to timestep. What's more, in order to regularize the representations formed by the recurrent gates of layers such as `GRU` and `LSTM`, a temporally\n",
        "constant dropout mask should be applied to the inner recurrent activations of the layer (a recurrent dropout mask). Using the same dropout mask at every timestep allows the network to properly propagate its learning error through time; a temporally random dropout mask would disrupt this error signal and be harmful to the learning process.\n",
        "\n",
        "Yarin Gal did his research using Keras and helped build this mechanism directly into Keras recurrent layers. Every recurrent layer in Keras has two dropout-related arguments: `dropout`, a float specifying the dropout rate for input units of the layer, and `recurrent_dropout`, specifying the dropout rate of the recurrent units. Let's add recurrent dropout to the LSTM layer of our first `LSTM` example and see how doing so impacts overfitting.\n",
        "\n",
        "Thanks to dropout, we won't need to rely as much on network size for regularization, so we'll use an LSTM layer with twice as many units, which should, hopefully, be more expressive (without dropout, this network would have started overfitting right away—try it). Because networks being regularized with dropout always take much longer to fully converge, we'll train the model for five times as many epochs."
      ],
      "metadata": {
        "id": "lLqtgcP5Zm6y"
      }
    },
    {
      "cell_type": "markdown",
      "metadata": {
        "id": "LECS4gdpOBA-"
      },
      "source": [
        "**Training and evaluating a dropout-regularized LSTM**"
      ]
    },
    {
      "cell_type": "code",
      "execution_count": null,
      "metadata": {
        "id": "UQZSOyAFOBA-",
        "outputId": "8f9f8149-5a91-4273-d759-ce4c245e1e26",
        "colab": {
          "base_uri": "https://localhost:8080/"
        }
      },
      "outputs": [
        {
          "output_type": "stream",
          "name": "stderr",
          "text": [
            "WARNING:tensorflow:Layer lstm_1 will not use cuDNN kernels since it doesn't meet the criteria. It will use a generic GPU kernel as fallback when running on GPU.\n"
          ]
        },
        {
          "output_type": "stream",
          "name": "stdout",
          "text": [
            "Epoch 1/50\n",
            "819/819 [==============================] - 444s 537ms/step - loss: 28.5535 - mae: 3.9433 - val_loss: 10.1467 - val_mae: 2.4776\n",
            "Epoch 2/50\n",
            "819/819 [==============================] - 443s 541ms/step - loss: 14.9003 - mae: 2.9989 - val_loss: 9.8578 - val_mae: 2.4538\n",
            "Epoch 3/50\n",
            "819/819 [==============================] - 456s 556ms/step - loss: 14.2577 - mae: 2.9286 - val_loss: 9.2836 - val_mae: 2.3800\n",
            "Epoch 4/50\n",
            "439/819 [===============>..............] - ETA: 3:23 - loss: 13.9273 - mae: 2.8901"
          ]
        }
      ],
      "source": [
        "inputs = keras.Input(shape=(sequence_length, raw_data.shape[-1]))\n",
        "x = layers.LSTM(32, recurrent_dropout=0.25)(inputs)\n",
        "x = layers.Dropout(0.5)(x)                                                      # To regularize the Dense layer, we also add a Dropout layer\n",
        "                                                                                # after the LSTM.\n",
        "outputs = layers.Dense(1)(x)\n",
        "model = keras.Model(inputs, outputs)\n",
        "\n",
        "callbacks = [\n",
        "    keras.callbacks.ModelCheckpoint(\"jena_lstm_dropout.keras\",\n",
        "                                    save_best_only=True)\n",
        "]\n",
        "model.compile(optimizer=\"rmsprop\", loss=\"mse\", metrics=[\"mae\"])\n",
        "history = model.fit(train_dataset,\n",
        "                    epochs=50,\n",
        "                    validation_data=val_dataset,\n",
        "                    callbacks=callbacks)"
      ]
    },
    {
      "cell_type": "code",
      "execution_count": null,
      "metadata": {
        "id": "1iSey20hOBA-"
      },
      "outputs": [],
      "source": [
        "inputs = keras.Input(shape=(sequence_length, num_features))\n",
        "x = layers.LSTM(32, recurrent_dropout=0.2, unroll=True)(inputs)"
      ]
    },
    {
      "cell_type": "markdown",
      "source": [
        "The figure above shows the results. Success! We're no longer overfitting during the first 20 epochs. We achieve a validation MAE as low as 2.27 degrees (7% improvement over the no-learning baseline) and a test MAE of 2.45 degrees (6.5% improvement over the baseline). Not too bad."
      ],
      "metadata": {
        "id": "jG-0bIp-aekj"
      }
    },
    {
      "cell_type": "markdown",
      "source": [
        "**RNN Runtime Performance:** Recurrent models with very few parameters, like the ones in this chapter, tend to be significantly faster on a multicore CPU than on GPU, because they only involve small matrix multiplications, and the chain of multiplications is not well parallelizable due to the presence of a *for* loop. But larger RNNs can greatly benefit from a GPU runtime.\n",
        "\n",
        "When using a Keras `LSTM` or `GRU` layer on GPU with default keyword arguments, your layer will be leveraging a cuDNN kernel, a highly optimized, low-level, NVIDIA-provided implementation of the underlying algorithm (I mentioned these in the previous chapter). As usual, cuDNN kernels are a mixed blessing: they're fast, but inflexible—if you\n",
        "try to do anything not supported by the default kernel, you will suffer a dramatic slowdown, which more or less forces you to stick to what NVIDIA happens to provide. For instance, recurrent dropout isn't supported by the LSTM and GRU cuDNN kernels, so adding it to your layers forces the runtime to fall back to the regular TensorFlow implementation, which is generally two to five times slower on GPU (even though its computational cost is the same).\n",
        "\n",
        "As a way to speed up your RNN layer when you can't use cuDNN, you can try *unrolling* it. Unrolling a `for` loop consists of removing the loop and simply inlining its content `N` times. In the case of the `for` loop of an RNN, unrolling can help TensorFlow optimize the underlying computation graph. However, it will also considerably increase the memory consumption of your RNN—as such, it's only viable for relatively small sequences (around 100 steps or fewer). Also, note that you can only do this if the\n",
        "number of timesteps in the data is known in advance by the model (that is to say, if you pass a shape without any None entries to your initial `Input()`). It works like this:\n"
      ],
      "metadata": {
        "id": "qDx3Efz4ap7z"
      }
    },
    {
      "cell_type": "markdown",
      "source": [
        "**RNN Runtime**"
      ],
      "metadata": {
        "id": "ttqY1S5-bTx1"
      }
    },
    {
      "cell_type": "code",
      "source": [
        "inputs = keras.Input(shape=(sequence_length, num_features))                     # sequence_length cannot be None\n",
        "x = layers.LSTM(32, recurrent_dropout=0.2, unroll=True)(inputs)                 # Pass unroll=True to enable unrolling."
      ],
      "metadata": {
        "id": "YRenJYH_bxlL"
      },
      "execution_count": null,
      "outputs": []
    },
    {
      "cell_type": "markdown",
      "source": [
        "Because you're no longer overfitting but seem to have hit a performance bottleneck, you should consider increasing the capacity and expressive power of the network. Recall the description of the universal machine learning workflow: it's generally a good idea to increase the capacity of your model until overfitting becomes the primary obstacle\n",
        "(assuming you're already taking basic steps to mitigate overfitting, such as using dropout). As long as you aren't overfitting too badly, you're likely under capacity.\n",
        "\n",
        "TODO: FIX FROM HERE!"
      ],
      "metadata": {
        "id": "JbiyianIbn-b"
      }
    },
    {
      "cell_type": "markdown",
      "metadata": {
        "id": "a5_i7VPkOBA-"
      },
      "source": [
        "### Stacking recurrent layers"
      ]
    },
    {
      "cell_type": "markdown",
      "metadata": {
        "id": "xH_X4HAwOBA-"
      },
      "source": [
        "**Training and evaluating a dropout-regularized, stacked GRU model**"
      ]
    },
    {
      "cell_type": "code",
      "execution_count": null,
      "metadata": {
        "id": "PMO4cXQVOBA_"
      },
      "outputs": [],
      "source": [
        "inputs = keras.Input(shape=(sequence_length, raw_data.shape[-1]))\n",
        "x = layers.GRU(32, recurrent_dropout=0.5, return_sequences=True)(inputs)\n",
        "x = layers.GRU(32, recurrent_dropout=0.5)(x)\n",
        "x = layers.Dropout(0.5)(x)\n",
        "outputs = layers.Dense(1)(x)\n",
        "model = keras.Model(inputs, outputs)\n",
        "\n",
        "callbacks = [\n",
        "    keras.callbacks.ModelCheckpoint(\"jena_stacked_gru_dropout.keras\",\n",
        "                                    save_best_only=True)\n",
        "]\n",
        "model.compile(optimizer=\"rmsprop\", loss=\"mse\", metrics=[\"mae\"])\n",
        "history = model.fit(train_dataset,\n",
        "                    epochs=50,\n",
        "                    validation_data=val_dataset,\n",
        "                    callbacks=callbacks)\n",
        "model = keras.models.load_model(\"jena_stacked_gru_dropout.keras\")\n",
        "print(f\"Test MAE: {model.evaluate(test_dataset)[1]:.2f}\")"
      ]
    },
    {
      "cell_type": "markdown",
      "metadata": {
        "id": "B71FvIt5OBA_"
      },
      "source": [
        "### Using bidirectional RNNs"
      ]
    },
    {
      "cell_type": "markdown",
      "metadata": {
        "id": "_942944pOBA_"
      },
      "source": [
        "**Training and evaluating a bidirectional LSTM**"
      ]
    },
    {
      "cell_type": "code",
      "execution_count": null,
      "metadata": {
        "id": "XKq3P6b8OBA_"
      },
      "outputs": [],
      "source": [
        "inputs = keras.Input(shape=(sequence_length, raw_data.shape[-1]))\n",
        "x = layers.Bidirectional(layers.LSTM(16))(inputs)\n",
        "outputs = layers.Dense(1)(x)\n",
        "model = keras.Model(inputs, outputs)\n",
        "\n",
        "model.compile(optimizer=\"rmsprop\", loss=\"mse\", metrics=[\"mae\"])\n",
        "history = model.fit(train_dataset,\n",
        "                    epochs=10,\n",
        "                    validation_data=val_dataset)"
      ]
    },
    {
      "cell_type": "markdown",
      "metadata": {
        "id": "8veHKgfaOBA_"
      },
      "source": [
        "### Going even further"
      ]
    },
    {
      "cell_type": "markdown",
      "metadata": {
        "id": "CD4MVLIIOBA_"
      },
      "source": [
        "## Summary"
      ]
    }
  ],
  "metadata": {
    "colab": {
      "name": "chapter10_dl-for-timeseries.i",
      "provenance": [],
      "toc_visible": true,
      "gpuType": "T4",
      "include_colab_link": true
    },
    "kernelspec": {
      "display_name": "Python 3",
      "name": "python3"
    },
    "language_info": {
      "codemirror_mode": {
        "name": "ipython",
        "version": 3
      },
      "file_extension": ".py",
      "mimetype": "text/x-python",
      "name": "python",
      "nbconvert_exporter": "python",
      "pygments_lexer": "ipython3",
      "version": "3.7.0"
    },
    "accelerator": "GPU"
  },
  "nbformat": 4,
  "nbformat_minor": 0
}