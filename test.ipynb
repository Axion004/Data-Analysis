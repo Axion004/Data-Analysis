{
  "nbformat": 4,
  "nbformat_minor": 0,
  "metadata": {
    "colab": {
      "provenance": [],
      "mount_file_id": "1WwWBsMorUqge6jEd8VafRdRulASIvVZu",
      "authorship_tag": "ABX9TyMIo2625cVL6QvEssZIfaWO",
      "include_colab_link": true
    },
    "kernelspec": {
      "name": "python3",
      "display_name": "Python 3"
    },
    "language_info": {
      "name": "python"
    }
  },
  "cells": [
    {
      "cell_type": "markdown",
      "metadata": {
        "id": "view-in-github",
        "colab_type": "text"
      },
      "source": [
        "<a href=\"https://colab.research.google.com/github/matthewshawnkehoe/Data-Analysis/blob/main/test.ipynb\" target=\"_parent\"><img src=\"https://colab.research.google.com/assets/colab-badge.svg\" alt=\"Open In Colab\"/></a>"
      ]
    },
    {
      "cell_type": "markdown",
      "source": [
        "# Progressively Load Images"
      ],
      "metadata": {
        "id": "vbK6Cr605sLc"
      }
    },
    {
      "cell_type": "markdown",
      "source": [
        "It is possible to write code to manually load image data and return data ready for modeling.\n",
        "\n",
        "This would include walking the directory structure for a dataset, loading image data, and returning the input (pixel arrays) and output (class integer).\n",
        "\n",
        "Thankfully, we don't need to write this code. Instead, we can use the [ImageDataGenerator class](https://keras.io/preprocessing/image/) provided by Keras.\n",
        "\n",
        "The main benefit of using this class to load the data is that images are loaded for a single dataset in batches, meaning that it can be used for loading both small datasets as well as very large image datasets with thousands or millions of images.\n",
        "\n",
        "Instead of loading all images into memory, it will load just enough images into memory for the current and perhaps the next few mini-batches when training and evaluating a deep learning model. I refer to this as progressive loading, as the dataset is progressively loaded fromz file, retrieving just enough data for what is needed immediately.\n",
        "\n",
        "Two additional benefits of the using the *ImageDataGenerator* class is that it can also automatically scale pixel values of images and it can automatically generate augmented versions of images. We will leave these topics for discussion in another tutorial and instead focus on how to use the *ImageDataGenerator* class to load image data from file."
      ],
      "metadata": {
        "id": "hqATwY499Nlq"
      }
    },
    {
      "cell_type": "markdown",
      "source": [
        "The pattern for using the ImageDataGenerator class is used as follows:\n",
        "\n",
        "1. Construct and configure an instance of the *ImageDataGenerator* class.\n",
        "2. Retrieve an iterator by calling the `flow_from_directory()` function.\n",
        "3. Use the iterator in the training or evaluation of a model.\n",
        "\n"
      ],
      "metadata": {
        "id": "7p7g5wYD5voJ"
      }
    },
    {
      "cell_type": "markdown",
      "source": [
        "Let’s take a closer look at each step.\n",
        "\n",
        "The constructor for the *ImageDataGenerator* contains many arguments to specify how to manipulate the image data after it is loaded, including pixel scaling and [data augmentation](https://machinelearningmastery.com/how-to-configure-image-data-augmentation-when-training-deep-learning-neural-networks/). We do not need any of these features at this stage, so configuring the *ImageDataGenerator* is easy."
      ],
      "metadata": {
        "id": "5-tA-6cp6xqw"
      }
    },
    {
      "cell_type": "code",
      "source": [
        "from keras.preprocessing.image import ImageDataGenerator\n",
        "\n",
        "# create a data generator\n",
        "datagen = ImageDataGenerator()"
      ],
      "metadata": {
        "id": "gVpVkPDX6Fei"
      },
      "execution_count": 4,
      "outputs": []
    },
    {
      "cell_type": "markdown",
      "source": [
        "Next, an iterator is required to progressively load images for a single dataset.\n",
        "\n",
        "This requires calling the `flow_from_directory()` function and specifying the dataset directory, such as the train, test, or validation directory.\n",
        "\n",
        "The function also allows you to configure more details related to the loading of images. Of note is the `target_size` argument that allows you to load all images to a specific size, which is often required when modeling. The function defaults to square images with the size (256, 256).\n",
        "\n",
        "The function also allows you to specify the type of classification task via the `class_mode` argument, specifically whether it is `binary` or a multi-class classification `categorical`.\n",
        "\n",
        "The default `batch_size` is 32, which means that 32 randomly selected images from across the classes in the dataset will be returned in each batch when training. Larger or smaller batches may be desired. You may also want to return batches in a deterministic order when evaluating a model, which you can do by setting `shuffle` to `False.`\n",
        "\n",
        "There are many other options, and I encourage you to review the [API documentation](https://keras.io/preprocessing/image/).\n",
        "\n",
        "We can use the same *ImageDataGenerator* to prepare separate iterators for separate dataset directories. This is useful if we would like the same pixel scaling applied to multiple datasets (e.g. train, test, etc.)."
      ],
      "metadata": {
        "id": "GrPW_ggx65gR"
      }
    },
    {
      "cell_type": "code",
      "source": [
        "# Unzip a local copy of the test, validate, and train files\n"
      ],
      "metadata": {
        "id": "qyUvxTlNCKXc"
      },
      "execution_count": null,
      "outputs": []
    },
    {
      "cell_type": "code",
      "source": [
        "# load and iterate training dataset\n",
        "train_it = datagen.flow_from_directory('/home/mkehoe/dev/NASA_Thermal_Earth_Obs/data/train/', class_mode='categorical', batch_size=32)\n",
        "# load and iterate validation dataset\n",
        "val_it = datagen.flow_from_directory('/home/mkehoe/dev/NASA_Thermal_Earth_Obs/data/validation/', class_mode='categorical', batch_size=32)\n",
        "# load and iterate test dataset\n",
        "test_it = datagen.flow_from_directory('/home/mkehoe/dev/NASA_Thermal_Earth_Obs/data/test/', class_mode='categorical', batch_size=32)"
      ],
      "metadata": {
        "colab": {
          "base_uri": "https://localhost:8080/",
          "height": 400
        },
        "id": "gAFcM4eO6_ix",
        "outputId": "77424c21-4310-41d2-a009-d9cf3606e36d"
      },
      "execution_count": 5,
      "outputs": [
        {
          "output_type": "error",
          "ename": "FileNotFoundError",
          "evalue": "ignored",
          "traceback": [
            "\u001b[0;31m---------------------------------------------------------------------------\u001b[0m",
            "\u001b[0;31mFileNotFoundError\u001b[0m                         Traceback (most recent call last)",
            "\u001b[0;32m<ipython-input-5-29bde28bacf8>\u001b[0m in \u001b[0;36m<cell line: 2>\u001b[0;34m()\u001b[0m\n\u001b[1;32m      1\u001b[0m \u001b[0;31m# load and iterate training dataset\u001b[0m\u001b[0;34m\u001b[0m\u001b[0;34m\u001b[0m\u001b[0m\n\u001b[0;32m----> 2\u001b[0;31m \u001b[0mtrain_it\u001b[0m \u001b[0;34m=\u001b[0m \u001b[0mdatagen\u001b[0m\u001b[0;34m.\u001b[0m\u001b[0mflow_from_directory\u001b[0m\u001b[0;34m(\u001b[0m\u001b[0;34m'/home/mkehoe/dev/NASA_Thermal_Earth_Obs/data/train/'\u001b[0m\u001b[0;34m,\u001b[0m \u001b[0mclass_mode\u001b[0m\u001b[0;34m=\u001b[0m\u001b[0;34m'categorical'\u001b[0m\u001b[0;34m,\u001b[0m \u001b[0mbatch_size\u001b[0m\u001b[0;34m=\u001b[0m\u001b[0;36m32\u001b[0m\u001b[0;34m)\u001b[0m\u001b[0;34m\u001b[0m\u001b[0;34m\u001b[0m\u001b[0m\n\u001b[0m\u001b[1;32m      3\u001b[0m \u001b[0;31m# load and iterate validation dataset\u001b[0m\u001b[0;34m\u001b[0m\u001b[0;34m\u001b[0m\u001b[0m\n\u001b[1;32m      4\u001b[0m \u001b[0mval_it\u001b[0m \u001b[0;34m=\u001b[0m \u001b[0mdatagen\u001b[0m\u001b[0;34m.\u001b[0m\u001b[0mflow_from_directory\u001b[0m\u001b[0;34m(\u001b[0m\u001b[0;34m'/home/mkehoe/dev/NASA_Thermal_Earth_Obs/data/validation/'\u001b[0m\u001b[0;34m,\u001b[0m \u001b[0mclass_mode\u001b[0m\u001b[0;34m=\u001b[0m\u001b[0;34m'categorical'\u001b[0m\u001b[0;34m,\u001b[0m \u001b[0mbatch_size\u001b[0m\u001b[0;34m=\u001b[0m\u001b[0;36m32\u001b[0m\u001b[0;34m)\u001b[0m\u001b[0;34m\u001b[0m\u001b[0;34m\u001b[0m\u001b[0m\n\u001b[1;32m      5\u001b[0m \u001b[0;31m# load and iterate test dataset\u001b[0m\u001b[0;34m\u001b[0m\u001b[0;34m\u001b[0m\u001b[0m\n",
            "\u001b[0;32m/usr/local/lib/python3.10/dist-packages/keras/preprocessing/image.py\u001b[0m in \u001b[0;36mflow_from_directory\u001b[0;34m(self, directory, target_size, color_mode, classes, class_mode, batch_size, shuffle, seed, save_to_dir, save_prefix, save_format, follow_links, subset, interpolation, keep_aspect_ratio)\u001b[0m\n\u001b[1;32m   1646\u001b[0m                 \u001b[0;32mand\u001b[0m\u001b[0;31m \u001b[0m\u001b[0;31m`\u001b[0m\u001b[0my\u001b[0m\u001b[0;31m`\u001b[0m \u001b[0;32mis\u001b[0m \u001b[0ma\u001b[0m \u001b[0mnumpy\u001b[0m \u001b[0marray\u001b[0m \u001b[0mof\u001b[0m \u001b[0mcorresponding\u001b[0m \u001b[0mlabels\u001b[0m\u001b[0;34m.\u001b[0m\u001b[0;34m\u001b[0m\u001b[0;34m\u001b[0m\u001b[0m\n\u001b[1;32m   1647\u001b[0m         \"\"\"\n\u001b[0;32m-> 1648\u001b[0;31m         return DirectoryIterator(\n\u001b[0m\u001b[1;32m   1649\u001b[0m             \u001b[0mdirectory\u001b[0m\u001b[0;34m,\u001b[0m\u001b[0;34m\u001b[0m\u001b[0;34m\u001b[0m\u001b[0m\n\u001b[1;32m   1650\u001b[0m             \u001b[0mself\u001b[0m\u001b[0;34m,\u001b[0m\u001b[0;34m\u001b[0m\u001b[0;34m\u001b[0m\u001b[0m\n",
            "\u001b[0;32m/usr/local/lib/python3.10/dist-packages/keras/preprocessing/image.py\u001b[0m in \u001b[0;36m__init__\u001b[0;34m(self, directory, image_data_generator, target_size, color_mode, classes, class_mode, batch_size, shuffle, seed, data_format, save_to_dir, save_prefix, save_format, follow_links, subset, interpolation, keep_aspect_ratio, dtype)\u001b[0m\n\u001b[1;32m    561\u001b[0m         \u001b[0;32mif\u001b[0m \u001b[0;32mnot\u001b[0m \u001b[0mclasses\u001b[0m\u001b[0;34m:\u001b[0m\u001b[0;34m\u001b[0m\u001b[0;34m\u001b[0m\u001b[0m\n\u001b[1;32m    562\u001b[0m             \u001b[0mclasses\u001b[0m \u001b[0;34m=\u001b[0m \u001b[0;34m[\u001b[0m\u001b[0;34m]\u001b[0m\u001b[0;34m\u001b[0m\u001b[0;34m\u001b[0m\u001b[0m\n\u001b[0;32m--> 563\u001b[0;31m             \u001b[0;32mfor\u001b[0m \u001b[0msubdir\u001b[0m \u001b[0;32min\u001b[0m \u001b[0msorted\u001b[0m\u001b[0;34m(\u001b[0m\u001b[0mos\u001b[0m\u001b[0;34m.\u001b[0m\u001b[0mlistdir\u001b[0m\u001b[0;34m(\u001b[0m\u001b[0mdirectory\u001b[0m\u001b[0;34m)\u001b[0m\u001b[0;34m)\u001b[0m\u001b[0;34m:\u001b[0m\u001b[0;34m\u001b[0m\u001b[0;34m\u001b[0m\u001b[0m\n\u001b[0m\u001b[1;32m    564\u001b[0m                 \u001b[0;32mif\u001b[0m \u001b[0mos\u001b[0m\u001b[0;34m.\u001b[0m\u001b[0mpath\u001b[0m\u001b[0;34m.\u001b[0m\u001b[0misdir\u001b[0m\u001b[0;34m(\u001b[0m\u001b[0mos\u001b[0m\u001b[0;34m.\u001b[0m\u001b[0mpath\u001b[0m\u001b[0;34m.\u001b[0m\u001b[0mjoin\u001b[0m\u001b[0;34m(\u001b[0m\u001b[0mdirectory\u001b[0m\u001b[0;34m,\u001b[0m \u001b[0msubdir\u001b[0m\u001b[0;34m)\u001b[0m\u001b[0;34m)\u001b[0m\u001b[0;34m:\u001b[0m\u001b[0;34m\u001b[0m\u001b[0;34m\u001b[0m\u001b[0m\n\u001b[1;32m    565\u001b[0m                     \u001b[0mclasses\u001b[0m\u001b[0;34m.\u001b[0m\u001b[0mappend\u001b[0m\u001b[0;34m(\u001b[0m\u001b[0msubdir\u001b[0m\u001b[0;34m)\u001b[0m\u001b[0;34m\u001b[0m\u001b[0;34m\u001b[0m\u001b[0m\n",
            "\u001b[0;31mFileNotFoundError\u001b[0m: [Errno 2] No such file or directory: '/home/mkehoe/dev/NASA_Thermal_Earth_Obs/data/train/'"
          ]
        }
      ]
    },
    {
      "cell_type": "markdown",
      "source": [
        "Once the iterators have been prepared, we can use them when fitting and evaluating a deep learning model.\n",
        "\n",
        "For example, fitting a model with a data generator can be achieved by calling the `fit_generator()` function on the model and passing the training iterator (`train_it`). The validation iterator (`val_it`) can be specified when calling this function via the `validation_data` argument.\n",
        "\n",
        "The `steps_per_epoch` argument must be specified for the training iterator in order to define how many batches of images defines a single epoch.\n",
        "\n",
        "For example, if you have 1,000 images in the training dataset (across all classes) and a batch size of 64, then the `steps_per_epoch` would be about 16, or 1000/64.\n",
        "\n",
        "Similarly, if a validation iterator is applied, then the `validation_steps` argument must also be specified to indicate the number of batches in the validation dataset defining one epoch."
      ],
      "metadata": {
        "id": "lU7fEVnc7m61"
      }
    },
    {
      "cell_type": "code",
      "source": [
        "# define model\n",
        "model = ...\n",
        "# fit model\n",
        "model.fit_generator(train_it, steps_per_epoch=16, validation_data=val_it, validation_steps=8)"
      ],
      "metadata": {
        "id": "ibbZrVYT7wg5"
      },
      "execution_count": null,
      "outputs": []
    },
    {
      "cell_type": "markdown",
      "source": [
        "Once the model is fit, it can be evaluated on a test dataset using the `evaluate_generator()` function and passing in the test iterator (`test_it`). The `steps` argument defines the number of batches of samples to step through when evaluating the model before stopping."
      ],
      "metadata": {
        "id": "ERhcBd8y7709"
      }
    },
    {
      "cell_type": "code",
      "source": [
        "# evaluate model\n",
        "loss = model.evaluate_generator(test_it, steps=24)"
      ],
      "metadata": {
        "id": "LylHrf658CJ0"
      },
      "execution_count": null,
      "outputs": []
    },
    {
      "cell_type": "markdown",
      "source": [
        "Finally, if you want to use your fit model for making predictions on a very large dataset, you can create an iterator for that dataset as well (e.g. `predict_it`) and call the `predict_generator()` function on the model."
      ],
      "metadata": {
        "id": "Uv64M2Vz8GV5"
      }
    },
    {
      "cell_type": "code",
      "source": [
        "# make a prediction\n",
        "yhat = model.predict_generator(predict_it, steps=24)"
      ],
      "metadata": {
        "id": "PefLCHwn8OvN"
      },
      "execution_count": null,
      "outputs": []
    },
    {
      "cell_type": "markdown",
      "source": [
        "Let's use our small dataset defined in the previous section to demonstrate how to define an *ImageDataGenerator* instance and prepare the dataset iterators.\n",
        "\n",
        "A complete example is listed below."
      ],
      "metadata": {
        "id": "7cdseWVK8Ree"
      }
    },
    {
      "cell_type": "code",
      "source": [
        "# example of progressively loading images from file\n",
        "from keras.preprocessing.image import ImageDataGenerator\n",
        "# create generator\n",
        "datagen = ImageDataGenerator()\n",
        "# prepare an iterators for each dataset\n",
        "train_it = datagen.flow_from_directory('data/train/', class_mode='binary')\n",
        "val_it = datagen.flow_from_directory('data/validation/', class_mode='binary')\n",
        "test_it = datagen.flow_from_directory('data/test/', class_mode='binary')\n",
        "# confirm the iterator works\n",
        "batchX, batchy = train_it.next()\n",
        "print('Batch shape=%s, min=%.3f, max=%.3f' % (batchX.shape, batchX.min(), batchX.max()))"
      ],
      "metadata": {
        "id": "N8WvSBu88UQZ"
      },
      "execution_count": null,
      "outputs": []
    },
    {
      "cell_type": "markdown",
      "source": [
        "Running the example first creates an instance of the *ImageDataGenerator* with all default configuration.\n",
        "\n",
        "Next, three iterators are created, one for each of the train, validation, and test binary classification datasets. As each iterator is created, we can see debug messages reporting the number of images and classes discovered and prepared.\n",
        "\n",
        "Finally, we test out the train iterator that would be used to fit a model. The first batch of images is retrieved and we can confirm that the batch contains two images, as only two images were available. We can also confirm that the images were loaded and forced to the square dimensions of 256 rows and 256 columns of pixels and the pixel data was not scaled and remains in the range [0, 255]."
      ],
      "metadata": {
        "id": "Zh3SoR6W8dIF"
      }
    },
    {
      "cell_type": "code",
      "source": [],
      "metadata": {
        "id": "Jvl5QUEu8hnm"
      },
      "execution_count": null,
      "outputs": []
    }
  ]
}