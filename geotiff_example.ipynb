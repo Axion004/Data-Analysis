{
  "nbformat": 4,
  "nbformat_minor": 0,
  "metadata": {
    "colab": {
      "provenance": [],
      "mount_file_id": "1h10OrP2VI2b8YtBgJmFOWxBWvwUSckQ8",
      "authorship_tag": "ABX9TyMAn5CY3gm/hQ46MRfirJM2",
      "include_colab_link": true
    },
    "kernelspec": {
      "name": "python3",
      "display_name": "Python 3"
    },
    "language_info": {
      "name": "python"
    }
  },
  "cells": [
    {
      "cell_type": "markdown",
      "metadata": {
        "id": "view-in-github",
        "colab_type": "text"
      },
      "source": [
        "<a href=\"https://colab.research.google.com/github/matthewshawnkehoe/Data-Analysis/blob/main/geotiff_example.ipynb\" target=\"_parent\"><img src=\"https://colab.research.google.com/assets/colab-badge.svg\" alt=\"Open In Colab\"/></a>"
      ]
    },
    {
      "cell_type": "code",
      "execution_count": 3,
      "metadata": {
        "colab": {
          "base_uri": "https://localhost:8080/"
        },
        "collapsed": true,
        "id": "sNrlZwhnyz0Q",
        "outputId": "4f360e14-26ca-4046-a33e-002e7e7fdc18"
      },
      "outputs": [
        {
          "output_type": "stream",
          "name": "stdout",
          "text": [
            "Looking in indexes: https://pypi.org/simple, https://us-python.pkg.dev/colab-wheels/public/simple/\n",
            "Collecting keras-spatial\n",
            "  Downloading keras_spatial-1.0.7-py2.py3-none-any.whl (22 kB)\n",
            "Requirement already satisfied: scipy in /usr/local/lib/python3.10/dist-packages (from keras-spatial) (1.10.1)\n",
            "Collecting rasterio (from keras-spatial)\n",
            "  Downloading rasterio-1.3.7-cp310-cp310-manylinux_2_17_x86_64.manylinux2014_x86_64.whl (21.3 MB)\n",
            "\u001b[2K     \u001b[90m━━━━━━━━━━━━━━━━━━━━━━━━━━━━━━━━━━━━━━━\u001b[0m \u001b[32m21.3/21.3 MB\u001b[0m \u001b[31m100.7 MB/s\u001b[0m eta \u001b[36m0:00:00\u001b[0m\n",
            "\u001b[?25hCollecting geopandas (from keras-spatial)\n",
            "  Downloading geopandas-0.13.2-py3-none-any.whl (1.1 MB)\n",
            "\u001b[2K     \u001b[90m━━━━━━━━━━━━━━━━━━━━━━━━━━━━━━━━━━━━━━━━\u001b[0m \u001b[32m1.1/1.1 MB\u001b[0m \u001b[31m63.6 MB/s\u001b[0m eta \u001b[36m0:00:00\u001b[0m\n",
            "\u001b[?25hCollecting netCDF4 (from keras-spatial)\n",
            "  Downloading netCDF4-1.6.4-cp310-cp310-manylinux_2_17_x86_64.manylinux2014_x86_64.whl (5.4 MB)\n",
            "\u001b[2K     \u001b[90m━━━━━━━━━━━━━━━━━━━━━━━━━━━━━━━━━━━━━━━━\u001b[0m \u001b[32m5.4/5.4 MB\u001b[0m \u001b[31m98.1 MB/s\u001b[0m eta \u001b[36m0:00:00\u001b[0m\n",
            "\u001b[?25hCollecting fiona>=1.8.19 (from geopandas->keras-spatial)\n",
            "  Downloading Fiona-1.9.4.post1-cp310-cp310-manylinux_2_17_x86_64.manylinux2014_x86_64.whl (16.4 MB)\n",
            "\u001b[2K     \u001b[90m━━━━━━━━━━━━━━━━━━━━━━━━━━━━━━━━━━━━━━━\u001b[0m \u001b[32m16.4/16.4 MB\u001b[0m \u001b[31m108.4 MB/s\u001b[0m eta \u001b[36m0:00:00\u001b[0m\n",
            "\u001b[?25hRequirement already satisfied: packaging in /usr/local/lib/python3.10/dist-packages (from geopandas->keras-spatial) (23.1)\n",
            "Requirement already satisfied: pandas>=1.1.0 in /usr/local/lib/python3.10/dist-packages (from geopandas->keras-spatial) (1.5.3)\n",
            "Collecting pyproj>=3.0.1 (from geopandas->keras-spatial)\n",
            "  Downloading pyproj-3.6.0-cp310-cp310-manylinux_2_17_x86_64.manylinux2014_x86_64.whl (7.9 MB)\n",
            "\u001b[2K     \u001b[90m━━━━━━━━━━━━━━━━━━━━━━━━━━━━━━━━━━━━━━━━\u001b[0m \u001b[32m7.9/7.9 MB\u001b[0m \u001b[31m131.6 MB/s\u001b[0m eta \u001b[36m0:00:00\u001b[0m\n",
            "\u001b[?25hRequirement already satisfied: shapely>=1.7.1 in /usr/local/lib/python3.10/dist-packages (from geopandas->keras-spatial) (2.0.1)\n",
            "Collecting cftime (from netCDF4->keras-spatial)\n",
            "  Downloading cftime-1.6.2-cp310-cp310-manylinux_2_17_x86_64.manylinux2014_x86_64.whl (1.2 MB)\n",
            "\u001b[2K     \u001b[90m━━━━━━━━━━━━━━━━━━━━━━━━━━━━━━━━━━━━━━━━\u001b[0m \u001b[32m1.2/1.2 MB\u001b[0m \u001b[31m95.9 MB/s\u001b[0m eta \u001b[36m0:00:00\u001b[0m\n",
            "\u001b[?25hRequirement already satisfied: certifi in /usr/local/lib/python3.10/dist-packages (from netCDF4->keras-spatial) (2022.12.7)\n",
            "Requirement already satisfied: numpy in /usr/local/lib/python3.10/dist-packages (from netCDF4->keras-spatial) (1.22.4)\n",
            "Collecting affine (from rasterio->keras-spatial)\n",
            "  Downloading affine-2.4.0-py3-none-any.whl (15 kB)\n",
            "Requirement already satisfied: attrs in /usr/local/lib/python3.10/dist-packages (from rasterio->keras-spatial) (23.1.0)\n",
            "Requirement already satisfied: click>=4.0 in /usr/local/lib/python3.10/dist-packages (from rasterio->keras-spatial) (8.1.3)\n",
            "Collecting cligj>=0.5 (from rasterio->keras-spatial)\n",
            "  Downloading cligj-0.7.2-py3-none-any.whl (7.1 kB)\n",
            "Collecting snuggs>=1.4.1 (from rasterio->keras-spatial)\n",
            "  Downloading snuggs-1.4.7-py3-none-any.whl (5.4 kB)\n",
            "Collecting click-plugins (from rasterio->keras-spatial)\n",
            "  Downloading click_plugins-1.1.1-py2.py3-none-any.whl (7.5 kB)\n",
            "Requirement already satisfied: setuptools in /usr/local/lib/python3.10/dist-packages (from rasterio->keras-spatial) (67.7.2)\n",
            "Requirement already satisfied: six in /usr/local/lib/python3.10/dist-packages (from fiona>=1.8.19->geopandas->keras-spatial) (1.16.0)\n",
            "Requirement already satisfied: python-dateutil>=2.8.1 in /usr/local/lib/python3.10/dist-packages (from pandas>=1.1.0->geopandas->keras-spatial) (2.8.2)\n",
            "Requirement already satisfied: pytz>=2020.1 in /usr/local/lib/python3.10/dist-packages (from pandas>=1.1.0->geopandas->keras-spatial) (2022.7.1)\n",
            "Requirement already satisfied: pyparsing>=2.1.6 in /usr/local/lib/python3.10/dist-packages (from snuggs>=1.4.1->rasterio->keras-spatial) (3.0.9)\n",
            "Installing collected packages: snuggs, pyproj, cligj, click-plugins, cftime, affine, rasterio, netCDF4, fiona, geopandas, keras-spatial\n",
            "Successfully installed affine-2.4.0 cftime-1.6.2 click-plugins-1.1.1 cligj-0.7.2 fiona-1.9.4.post1 geopandas-0.13.2 keras-spatial-1.0.7 netCDF4-1.6.4 pyproj-3.6.0 rasterio-1.3.7 snuggs-1.4.7\n"
          ]
        }
      ],
      "source": [
        "# Toy example for .tif\n",
        "\n",
        "!pip install keras-spatial\n",
        "from keras_spatial.datagen import SpatialDataGenerator\n"
      ]
    },
    {
      "cell_type": "markdown",
      "source": [
        "Quickstart\n",
        "\n",
        "1.   Create a SpatialDataGen and set the source raster\n",
        "2.   Create a geodataframe with 200x200 (in projection units) samples covering the spatial extent of the raster\n",
        "3. Create the generator producing arrays with shape [32, 128, 128, 1]\n",
        "4. Fit model"
      ],
      "metadata": {
        "id": "N5pg-Uuxz3OP"
      }
    },
    {
      "cell_type": "code",
      "source": [
        "from keras_spatial.datagen import SpatialDataGenerator\n",
        "\n",
        "sdg = SpatialDataGenerator(source='/content/drive/MyDrive/data/train/BannockLakes_20180728.tif')\n",
        "geodataframe = sdg.regular_grid(200, 200)\n",
        "generator = sdg.flow_from_dataframe(geodataframe, 128, 128, batch_size=32)\n",
        "# model(generator, ...)"
      ],
      "metadata": {
        "id": "V7oHSZ34z1v2"
      },
      "execution_count": 4,
      "outputs": []
    },
    {
      "cell_type": "markdown",
      "source": [
        "**Usage**\n",
        "\n",
        "Keras Spatial provides a SpatialDataGenerator (SDG) modeled on the Keras ImageDataGenerator. The SDG allows user to work in spatial coorindates rather than pixels and easily integrate data from different coordinates systems. Reprojection and resampling is handled automatically as needed. Because Keras Spatial is based on the rasterio package, raster data source may either local files or remote resources referenced by URL.\n",
        "\n",
        "Because the SDG reads directly from larger raster data sources rather than small, preprocessed images files, SDG makes use of a GeoDataFrame to identify each sample area. The geometry associated with the datafame is expected to be a polygon but extraction is done using a windowed read based on the bounds. As with the ImageDataGenerator, the flow_from_dataframe method returns the generator that can be passed to the Keras model.\n",
        "SpatialDataGenerator class\n",
        "\n",
        "The SDG is similar to the ImageDataGenerator albeit missing the .flow and the .flow_from_directory methods. SDG also moves more configutation and setting to the instance and with the .flow_from_dataframe having few arguments."
      ],
      "metadata": {
        "id": "rL8PN4kC0o1s"
      }
    },
    {
      "cell_type": "markdown",
      "source": [
        "**SpatialDataGenerator class**\n",
        "\n",
        "The SDG is similar to the ImageDataGenerator albeit missing the .flow and the .flow_from_directory methods. SDG also moves more configutation and setting to the instance and with the .flow_from_dataframe having few arguments."
      ],
      "metadata": {
        "id": "TYBUuDs60xRT"
      }
    },
    {
      "cell_type": "markdown",
      "source": [
        "**Arguments**\n",
        "\n",
        "*   source (path or url): raster source\n",
        "*   width (int): array size produced by generator\n",
        "*   height (int): array size produced by generator\n",
        "*   width (int): array size produced by generator\n",
        "*   indexes (int or tuple of ints): one or more raster bands to sampled\n",
        "*   interleave (str): type of interleave 'band' or 'pixel' (default='pixel')\n",
        "*   resampling (int): One of the values from rasterio.enums.Resampling (default=Resampling.nearest)\n",
        "\n",
        "Raises RasterioIOError when the source is set if the file does not exist or remote resource is not available.\n",
        "\n",
        "**Examples**"
      ],
      "metadata": {
        "id": "tk2G_AWB01KC"
      }
    },
    {
      "cell_type": "code",
      "source": [
        "from keras_spatial import SpatialDataGenerator\n",
        "\n",
        "sdg = SpatialDataGenerator(source='/content/drive/MyDrive/data/train/BannockLakes_20180728.tif')\n",
        "sdg.width, sdg.height = 128,128"
      ],
      "metadata": {
        "id": "Qxm-ibXm1Oxt"
      },
      "execution_count": 6,
      "outputs": []
    },
    {
      "cell_type": "markdown",
      "source": [
        "The source must be set prior to calling flow_from_dataframe. Width and height can set as attributes to the SDG or as arguments to flow_from _dataframe but specifying as arguments to flow_from_dataframe is preferred.\n",
        "\n",
        "The indexes argument selects bands in a multiband raster. By default all bands are read and the indexes argument is updated when the raster source is set.\n",
        "\n",
        "In multiband situations, if interleave is set to 'band' (the default) the numpy array will have the shape `[batch_size, bands, height, width]` and is compatible with TensorFlow. If interleave is set to 'pixel', the shape will be `[batch_size, height, width, bands]` which is not generally what you want, use with care."
      ],
      "metadata": {
        "id": "3vVTaufV1Zfj"
      }
    },
    {
      "cell_type": "code",
      "source": [
        "# file.tif is a 5 band raster\n",
        "sdg = SpatialDataGenerator('/content/drive/MyDrive/data/train/BannockLakes_20180728.tif')\n",
        "sdg.interleave, sdg.indexes = 'band', -1\n",
        "arr = next(sdg.flow_from_dataframe(df, 128, 128, batch_size=1))\n",
        "print(arr.shape)\n",
        "\n",
        "sdg.interleave, sdg.indexes = 'band', 1\n",
        "arr = next(sdg.flow_from_dataframe(df, 128, 128, batch_size=1))\n",
        "print(arr.shape)\n",
        "\n",
        "sdg.interleave, sdg.indexes = 'pixel', [1,2,3]\n",
        "arr = next(sdg.flow_from_dataframe(df, 128, 128, batch_size=1))\n",
        "print(arr.shape)\n",
        "\n",
        "sdg.interleave, sdg.indexes = 'pixel', 1\n",
        "arr = next(sdg.flow_from_dataframe(df, 128, 128, batch_size=1))\n",
        "print(arr.shape)"
      ],
      "metadata": {
        "colab": {
          "base_uri": "https://localhost:8080/",
          "height": 237
        },
        "id": "hv0sab-H1d-U",
        "outputId": "9053f81f-7bec-47ab-9093-7dd77fe59581"
      },
      "execution_count": 7,
      "outputs": [
        {
          "output_type": "error",
          "ename": "NameError",
          "evalue": "ignored",
          "traceback": [
            "\u001b[0;31m---------------------------------------------------------------------------\u001b[0m",
            "\u001b[0;31mNameError\u001b[0m                                 Traceback (most recent call last)",
            "\u001b[0;32m<ipython-input-7-cfc210bfe69e>\u001b[0m in \u001b[0;36m<cell line: 4>\u001b[0;34m()\u001b[0m\n\u001b[1;32m      2\u001b[0m \u001b[0msdg\u001b[0m \u001b[0;34m=\u001b[0m \u001b[0mSpatialDataGenerator\u001b[0m\u001b[0;34m(\u001b[0m\u001b[0;34m'/content/drive/MyDrive/data/train/BannockLakes_20180728.tif'\u001b[0m\u001b[0;34m)\u001b[0m\u001b[0;34m\u001b[0m\u001b[0;34m\u001b[0m\u001b[0m\n\u001b[1;32m      3\u001b[0m \u001b[0msdg\u001b[0m\u001b[0;34m.\u001b[0m\u001b[0minterleave\u001b[0m\u001b[0;34m,\u001b[0m \u001b[0msdg\u001b[0m\u001b[0;34m.\u001b[0m\u001b[0mindexes\u001b[0m \u001b[0;34m=\u001b[0m \u001b[0;34m'band'\u001b[0m\u001b[0;34m,\u001b[0m \u001b[0;34m-\u001b[0m\u001b[0;36m1\u001b[0m\u001b[0;34m\u001b[0m\u001b[0;34m\u001b[0m\u001b[0m\n\u001b[0;32m----> 4\u001b[0;31m \u001b[0marr\u001b[0m \u001b[0;34m=\u001b[0m \u001b[0mnext\u001b[0m\u001b[0;34m(\u001b[0m\u001b[0msdg\u001b[0m\u001b[0;34m.\u001b[0m\u001b[0mflow_from_dataframe\u001b[0m\u001b[0;34m(\u001b[0m\u001b[0mdf\u001b[0m\u001b[0;34m,\u001b[0m \u001b[0;36m128\u001b[0m\u001b[0;34m,\u001b[0m \u001b[0;36m128\u001b[0m\u001b[0;34m,\u001b[0m \u001b[0mbatch_size\u001b[0m\u001b[0;34m=\u001b[0m\u001b[0;36m1\u001b[0m\u001b[0;34m)\u001b[0m\u001b[0;34m)\u001b[0m\u001b[0;34m\u001b[0m\u001b[0;34m\u001b[0m\u001b[0m\n\u001b[0m\u001b[1;32m      5\u001b[0m \u001b[0mprint\u001b[0m\u001b[0;34m(\u001b[0m\u001b[0marr\u001b[0m\u001b[0;34m.\u001b[0m\u001b[0mshape\u001b[0m\u001b[0;34m)\u001b[0m\u001b[0;34m\u001b[0m\u001b[0;34m\u001b[0m\u001b[0m\n\u001b[1;32m      6\u001b[0m \u001b[0;34m\u001b[0m\u001b[0m\n",
            "\u001b[0;31mNameError\u001b[0m: name 'df' is not defined"
          ]
        }
      ]
    }
  ]
}