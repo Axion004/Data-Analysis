{
 "cells": [
  {
   "cell_type": "markdown",
   "metadata": {
    "collapsed": true
   },
   "source": [
    "# Answering Business Questions Using SQL\n",
    "\n",
    "![](https://www.groovehq.com/blog/wp-content/uploads/2017/05/best-of-q-and-a.jpeg)\n",
    "\n",
    "Image Source: [Groove HQ](https://www.groovehq.com/blog/best-of-q-and-a)"
   ]
  },
  {
   "cell_type": "markdown",
   "metadata": {},
   "source": [
    "## Table of Contents\n",
    "---\n",
    "- [Introduction](#Introduction)\n",
    "- [Importing Libraries](#Importing-Libraries)\n",
    "- [Connecting to the Database](#Connecting-to-the-Database)\n",
    "- [Business Questions](#Business-Questions)\n",
    "    - [Selecting Albums to Purchase](#A.-Selecting-Albums-to-Purchase)\n",
    "    - [Analyzing Employee Sales Performance](#B.-Analyzing-Employee-Sales-Performance)\n",
    "    - [Analyzing Sales by Country](#C.-Analyzing-Sales-by-Country)\n",
    "    - [Albums vs Individual Tracks](#D.-Albums-vs-Individual-Tracks)\n",
    "- [Conclusion](#Conclusion)\n",
    "\n",
    "## Introduction\n",
    "---\n",
    "As Business Analysts, we have been contacted by a fictional online music store called Chinook. The company wants our help with answering some business questions.\n",
    "\n",
    "They provided access to their [database](https://github.com/lerocha/chinook-database), which contains information about the artists, songs, and albums from the music store. Employee information, customer information, and the details of purchase transactions can also be found in the database. The entity relationship diagram below provides a structural overview of the Chinook database:\n",
    "\n",
    "<img src='https://s3.amazonaws.com/dq-content/189/chinook-schema.svg'\n",
    "     height= '500'\n",
    "     width='500'/>\n",
    "     \n",
    "## Importing Libraries"
   ]
  },
  {
   "cell_type": "code",
   "execution_count": 1,
   "metadata": {
    "collapsed": false
   },
   "outputs": [],
   "source": [
    "import numpy as np\n",
    "import pandas as pd"
   ]
  },
  {
   "cell_type": "markdown",
   "metadata": {},
   "source": [
    "## Connecting to the Database"
   ]
  },
  {
   "cell_type": "code",
   "execution_count": 2,
   "metadata": {
    "collapsed": false
   },
   "outputs": [
    {
     "data": {
      "text/plain": [
       "'Connected: None@chinook.db'"
      ]
     },
     "execution_count": 2,
     "metadata": {},
     "output_type": "execute_result"
    }
   ],
   "source": [
    "%%capture\n",
    "%load_ext sql\n",
    "%sql sqlite:///chinook.db"
   ]
  },
  {
   "cell_type": "markdown",
   "metadata": {},
   "source": [
    "Let's start by getting familiar with our data. Remember that we can query the database to get a list of all tables and views in our database:"
   ]
  },
  {
   "cell_type": "code",
   "execution_count": 3,
   "metadata": {
    "collapsed": false
   },
   "outputs": [
    {
     "name": "stdout",
     "output_type": "stream",
     "text": [
      "Done.\n"
     ]
    },
    {
     "data": {
      "text/html": [
       "<table>\n",
       "    <tr>\n",
       "        <th>name</th>\n",
       "        <th>type</th>\n",
       "    </tr>\n",
       "    <tr>\n",
       "        <td>album</td>\n",
       "        <td>table</td>\n",
       "    </tr>\n",
       "    <tr>\n",
       "        <td>artist</td>\n",
       "        <td>table</td>\n",
       "    </tr>\n",
       "    <tr>\n",
       "        <td>customer</td>\n",
       "        <td>table</td>\n",
       "    </tr>\n",
       "    <tr>\n",
       "        <td>employee</td>\n",
       "        <td>table</td>\n",
       "    </tr>\n",
       "    <tr>\n",
       "        <td>genre</td>\n",
       "        <td>table</td>\n",
       "    </tr>\n",
       "    <tr>\n",
       "        <td>invoice</td>\n",
       "        <td>table</td>\n",
       "    </tr>\n",
       "    <tr>\n",
       "        <td>invoice_line</td>\n",
       "        <td>table</td>\n",
       "    </tr>\n",
       "    <tr>\n",
       "        <td>media_type</td>\n",
       "        <td>table</td>\n",
       "    </tr>\n",
       "    <tr>\n",
       "        <td>playlist</td>\n",
       "        <td>table</td>\n",
       "    </tr>\n",
       "    <tr>\n",
       "        <td>playlist_track</td>\n",
       "        <td>table</td>\n",
       "    </tr>\n",
       "    <tr>\n",
       "        <td>track</td>\n",
       "        <td>table</td>\n",
       "    </tr>\n",
       "</table>"
      ],
      "text/plain": [
       "[('album', 'table'),\n",
       " ('artist', 'table'),\n",
       " ('customer', 'table'),\n",
       " ('employee', 'table'),\n",
       " ('genre', 'table'),\n",
       " ('invoice', 'table'),\n",
       " ('invoice_line', 'table'),\n",
       " ('media_type', 'table'),\n",
       " ('playlist', 'table'),\n",
       " ('playlist_track', 'table'),\n",
       " ('track', 'table')]"
      ]
     },
     "execution_count": 3,
     "metadata": {},
     "output_type": "execute_result"
    }
   ],
   "source": [
    "%%sql                  \n",
    "SELECT\n",
    "    name,\n",
    "    type\n",
    "FROM sqlite_master\n",
    "WHERE type IN (\"table\",\"view\");"
   ]
  },
  {
   "cell_type": "markdown",
   "metadata": {},
   "source": [
    ">- The Chinook database contains 11 tables with information about the store's tracks, employees, customers, and purchase transactions.\n",
    "\n",
    "## Business Questions\n",
    "\n",
    "### A. Selecting Albums to Purchase"
   ]
  },
  {
   "cell_type": "markdown",
   "metadata": {},
   "source": [
    "The Chinook record store has just signed a deal with a new record label, and we've been tasked with selecting the first three albums that will be added to the store, from a list of four. All four albums are by artists that don't have any tracks in the store right now - we have the artist names, and the genre of music they produce.\n",
    "\n",
    "The record label specializes in artists from the USA, and they have given Chinook some money to advertise the new albums in the USA, so we're interested in finding out which genres sell the best in the USA.\n",
    "\n",
    "We need to write a query and  make a recommendation for the three artists whose albums we should purchase for the store."
   ]
  },
  {
   "cell_type": "code",
   "execution_count": 4,
   "metadata": {
    "collapsed": false
   },
   "outputs": [
    {
     "name": "stdout",
     "output_type": "stream",
     "text": [
      "Done.\n"
     ]
    },
    {
     "data": {
      "text/html": [
       "<table>\n",
       "    <tr>\n",
       "        <th>Genre</th>\n",
       "        <th>Tracks Sold</th>\n",
       "        <th>Percentage Sold</th>\n",
       "    </tr>\n",
       "    <tr>\n",
       "        <td>Rock</td>\n",
       "        <td>561</td>\n",
       "        <td>53.38</td>\n",
       "    </tr>\n",
       "    <tr>\n",
       "        <td>Alternative &amp; Punk</td>\n",
       "        <td>130</td>\n",
       "        <td>12.37</td>\n",
       "    </tr>\n",
       "    <tr>\n",
       "        <td>Metal</td>\n",
       "        <td>124</td>\n",
       "        <td>11.8</td>\n",
       "    </tr>\n",
       "    <tr>\n",
       "        <td>R&amp;B/Soul</td>\n",
       "        <td>53</td>\n",
       "        <td>5.04</td>\n",
       "    </tr>\n",
       "    <tr>\n",
       "        <td>Blues</td>\n",
       "        <td>36</td>\n",
       "        <td>3.43</td>\n",
       "    </tr>\n",
       "    <tr>\n",
       "        <td>Alternative</td>\n",
       "        <td>35</td>\n",
       "        <td>3.33</td>\n",
       "    </tr>\n",
       "    <tr>\n",
       "        <td>Latin</td>\n",
       "        <td>22</td>\n",
       "        <td>2.09</td>\n",
       "    </tr>\n",
       "    <tr>\n",
       "        <td>Pop</td>\n",
       "        <td>22</td>\n",
       "        <td>2.09</td>\n",
       "    </tr>\n",
       "    <tr>\n",
       "        <td>Hip Hop/Rap</td>\n",
       "        <td>20</td>\n",
       "        <td>1.9</td>\n",
       "    </tr>\n",
       "    <tr>\n",
       "        <td>Jazz</td>\n",
       "        <td>14</td>\n",
       "        <td>1.33</td>\n",
       "    </tr>\n",
       "</table>"
      ],
      "text/plain": [
       "[('Rock', 561, 53.38),\n",
       " ('Alternative & Punk', 130, 12.37),\n",
       " ('Metal', 124, 11.8),\n",
       " ('R&B/Soul', 53, 5.04),\n",
       " ('Blues', 36, 3.43),\n",
       " ('Alternative', 35, 3.33),\n",
       " ('Latin', 22, 2.09),\n",
       " ('Pop', 22, 2.09),\n",
       " ('Hip Hop/Rap', 20, 1.9),\n",
       " ('Jazz', 14, 1.33)]"
      ]
     },
     "execution_count": 4,
     "metadata": {},
     "output_type": "execute_result"
    }
   ],
   "source": [
    "%%sql\n",
    "WITH usa_tracks_sold AS\n",
    "   (\n",
    "    SELECT il.* FROM invoice_line il\n",
    "    INNER JOIN invoice i on il.invoice_id = i.invoice_id\n",
    "    INNER JOIN customer c on i.customer_id = c.customer_id\n",
    "    WHERE c.country = \"USA\"\n",
    "   )\n",
    "\n",
    "SELECT\n",
    "    g.name Genre,\n",
    "    count(uts.invoice_line_id) \"Tracks Sold\",\n",
    "    ROUND(cast(count(uts.invoice_line_id) AS FLOAT) \n",
    "          / (SELECT COUNT(*) from usa_tracks_sold) * 100,2)\n",
    "          \"Percentage Sold\"\n",
    "FROM usa_tracks_sold uts\n",
    "INNER JOIN track t on t.track_id = uts.track_id\n",
    "INNER JOIN genre g on g.genre_id = t.genre_id\n",
    "GROUP BY 1\n",
    "ORDER BY 2 DESC\n",
    "LIMIT 10;"
   ]
  },
  {
   "cell_type": "markdown",
   "metadata": {},
   "source": [
    "#### Results\n",
    ">Based on the genre sales pattern in the USA. Chinook should select these options from the list of available albums.\n",
    ">- **Punk:** Red Tone\n",
    ">- **Blues:** Slim Jim Bites \n",
    ">- **Pop:** Meteor and the Girls\n",
    "  \n",
    ">It's worth noting that these three genres only make up **17%** of total sales. To maximize profitability, the company should be on the lookout for Rock songs since they account for **53%** of sales in the US market."
   ]
  },
  {
   "cell_type": "markdown",
   "metadata": {},
   "source": [
    "### B. Analyzing Employee Sales Performance"
   ]
  },
  {
   "cell_type": "markdown",
   "metadata": {},
   "source": [
    "Each customer for the Chinook store gets assigned to a sales support agent within the company when they first make a purchase. We need to analyze the purchases of customers belonging to each employee to see if any sales support agent is performing either better or worse than the others."
   ]
  },
  {
   "cell_type": "code",
   "execution_count": 5,
   "metadata": {
    "collapsed": false
   },
   "outputs": [
    {
     "name": "stdout",
     "output_type": "stream",
     "text": [
      "Done.\n"
     ]
    },
    {
     "data": {
      "text/html": [
       "<table>\n",
       "    <tr>\n",
       "        <th>Employee</th>\n",
       "        <th>Hire Date</th>\n",
       "        <th>Number of Customers</th>\n",
       "        <th>Total Sales</th>\n",
       "    </tr>\n",
       "    <tr>\n",
       "        <td>Jane Peacock</td>\n",
       "        <td>2017-04-01 00:00:00</td>\n",
       "        <td>8</td>\n",
       "        <td>$1731.51</td>\n",
       "    </tr>\n",
       "    <tr>\n",
       "        <td>Margaret Park</td>\n",
       "        <td>2017-05-03 00:00:00</td>\n",
       "        <td>5</td>\n",
       "        <td>$1584.0</td>\n",
       "    </tr>\n",
       "    <tr>\n",
       "        <td>Steve Johnson</td>\n",
       "        <td>2017-10-17 00:00:00</td>\n",
       "        <td>13</td>\n",
       "        <td>$1393.92</td>\n",
       "    </tr>\n",
       "</table>"
      ],
      "text/plain": [
       "[('Jane Peacock', '2017-04-01 00:00:00', 8, '$1731.51'),\n",
       " ('Margaret Park', '2017-05-03 00:00:00', 5, '$1584.0'),\n",
       " ('Steve Johnson', '2017-10-17 00:00:00', 13, '$1393.92')]"
      ]
     },
     "execution_count": 5,
     "metadata": {},
     "output_type": "execute_result"
    }
   ],
   "source": [
    "%%sql\n",
    "WITH customer_support_rep_sales AS\n",
    "    (\n",
    "     SELECT\n",
    "         i.customer_id,\n",
    "         c.support_rep_id,\n",
    "         COUNT(c.customer_id) AS num_customers,\n",
    "         SUM(i.total) total\n",
    "     FROM invoice i\n",
    "     INNER JOIN customer c ON i.customer_id = c.customer_id\n",
    "     GROUP BY 1,2\n",
    "    )\n",
    "\n",
    "SELECT\n",
    "    e.first_name || \" \" || e.last_name Employee,\n",
    "    e.hire_date \"Hire Date\",\n",
    "    num_customers \"Number of Customers\",\n",
    "    '$' || ROUND(SUM(csrs.total),2) \"Total Sales\"\n",
    "FROM customer_support_rep_sales csrs\n",
    "INNER JOIN employee e ON e.employee_id = csrs.support_rep_id\n",
    "GROUP BY 1;"
   ]
  },
  {
   "cell_type": "markdown",
   "metadata": {},
   "source": [
    "#### Results\n",
    ">- Of the three sales employees, Jane achieved the highest total sales of **1,731 dollars**. Margaret Park comes second, and Steve occupies the last place with **1,393 dollars** in sales. This difference in sales is understandable, considering that Jane and Margaret were employed about **five** months before Steve. "
   ]
  },
  {
   "cell_type": "markdown",
   "metadata": {},
   "source": [
    "### C. Analyzing Sales by Country"
   ]
  },
  {
   "cell_type": "markdown",
   "metadata": {},
   "source": [
    "Chinook wants to understand how sales are distributed across different countries. The company intends to identify countries with growth potential and may even run advertising campaigns in these countries. In specific, we would like to calculate data for each country on the:\n",
    "\n",
    ">- total number of customers\n",
    "- total value of sales\n",
    "- average value of sales per customer\n",
    "- average order value"
   ]
  },
  {
   "cell_type": "code",
   "execution_count": 9,
   "metadata": {
    "collapsed": false
   },
   "outputs": [
    {
     "name": "stdout",
     "output_type": "stream",
     "text": [
      "Done.\n"
     ]
    },
    {
     "data": {
      "text/html": [
       "<table>\n",
       "    <tr>\n",
       "        <th>Country</th>\n",
       "        <th>Customers</th>\n",
       "        <th>Total Sales</th>\n",
       "        <th>Average Order</th>\n",
       "        <th>Customer Lifetime Value</th>\n",
       "    </tr>\n",
       "    <tr>\n",
       "        <td>Other</td>\n",
       "        <td>15</td>\n",
       "        <td>$1094.94</td>\n",
       "        <td>7.45</td>\n",
       "        <td>73.0</td>\n",
       "    </tr>\n",
       "    <tr>\n",
       "        <td>USA</td>\n",
       "        <td>13</td>\n",
       "        <td>$1040.49</td>\n",
       "        <td>7.94</td>\n",
       "        <td>80.04</td>\n",
       "    </tr>\n",
       "    <tr>\n",
       "        <td>Canada</td>\n",
       "        <td>8</td>\n",
       "        <td>$535.59</td>\n",
       "        <td>7.05</td>\n",
       "        <td>66.95</td>\n",
       "    </tr>\n",
       "    <tr>\n",
       "        <td>Brazil</td>\n",
       "        <td>5</td>\n",
       "        <td>$427.68</td>\n",
       "        <td>7.01</td>\n",
       "        <td>85.54</td>\n",
       "    </tr>\n",
       "    <tr>\n",
       "        <td>France</td>\n",
       "        <td>5</td>\n",
       "        <td>$389.07</td>\n",
       "        <td>7.78</td>\n",
       "        <td>77.81</td>\n",
       "    </tr>\n",
       "    <tr>\n",
       "        <td>Germany</td>\n",
       "        <td>4</td>\n",
       "        <td>$334.62</td>\n",
       "        <td>8.16</td>\n",
       "        <td>83.66</td>\n",
       "    </tr>\n",
       "    <tr>\n",
       "        <td>United Kingdom</td>\n",
       "        <td>3</td>\n",
       "        <td>$245.52</td>\n",
       "        <td>8.77</td>\n",
       "        <td>81.84</td>\n",
       "    </tr>\n",
       "    <tr>\n",
       "        <td>Czech Republic</td>\n",
       "        <td>2</td>\n",
       "        <td>$273.24</td>\n",
       "        <td>9.11</td>\n",
       "        <td>136.62</td>\n",
       "    </tr>\n",
       "    <tr>\n",
       "        <td>Portugal</td>\n",
       "        <td>2</td>\n",
       "        <td>$185.13</td>\n",
       "        <td>6.38</td>\n",
       "        <td>92.57</td>\n",
       "    </tr>\n",
       "    <tr>\n",
       "        <td>India</td>\n",
       "        <td>2</td>\n",
       "        <td>$183.15</td>\n",
       "        <td>8.72</td>\n",
       "        <td>91.58</td>\n",
       "    </tr>\n",
       "</table>"
      ],
      "text/plain": [
       "[('Other', 15, '$1094.94', 7.45, 73.0),\n",
       " ('USA', 13, '$1040.49', 7.94, 80.04),\n",
       " ('Canada', 8, '$535.59', 7.05, 66.95),\n",
       " ('Brazil', 5, '$427.68', 7.01, 85.54),\n",
       " ('France', 5, '$389.07', 7.78, 77.81),\n",
       " ('Germany', 4, '$334.62', 8.16, 83.66),\n",
       " ('United Kingdom', 3, '$245.52', 8.77, 81.84),\n",
       " ('Czech Republic', 2, '$273.24', 9.11, 136.62),\n",
       " ('Portugal', 2, '$185.13', 6.38, 92.57),\n",
       " ('India', 2, '$183.15', 8.72, 91.58)]"
      ]
     },
     "execution_count": 9,
     "metadata": {},
     "output_type": "execute_result"
    }
   ],
   "source": [
    "%%sql\n",
    "WITH country_or_other AS\n",
    "    (\n",
    "     SELECT\n",
    "       CASE\n",
    "           WHEN (\n",
    "                 SELECT count(*)\n",
    "                 FROM customer\n",
    "                 where country = c.country\n",
    "                ) = 1 THEN \"Other\"\n",
    "           ELSE c.country\n",
    "       END AS country,\n",
    "       c.customer_id,\n",
    "       il.*\n",
    "     FROM invoice_line il\n",
    "     INNER JOIN invoice i ON i.invoice_id = il.invoice_id\n",
    "     INNER JOIN customer c ON c.customer_id = i.customer_id\n",
    "    )\n",
    "\n",
    "SELECT\n",
    "    country,\n",
    "    customers,\n",
    "    total_sales \"Total Sales\",\n",
    "    average_order \"Average Order\",\n",
    "    customer_lifetime_value \"Customer Lifetime Value\"\n",
    "FROM\n",
    "    (\n",
    "    SELECT\n",
    "        Country,\n",
    "        count(distinct customer_id) Customers,\n",
    "        '$' || ROUND(SUM(unit_price),2) total_sales,\n",
    "        ROUND(SUM(unit_price) / count(distinct customer_id),2) customer_lifetime_value,\n",
    "        ROUND(SUM(unit_price) / count(distinct invoice_id),2) average_order,\n",
    "        CASE\n",
    "            WHEN country = \"Other\" THEN 1\n",
    "            ELSE 0\n",
    "        END AS sort\n",
    "    FROM country_or_other\n",
    "    GROUP BY country\n",
    "    ORDER BY Customers DESC, total_sales DESC\n",
    "    );"
   ]
  },
  {
   "cell_type": "markdown",
   "metadata": {},
   "source": [
    "#### Results\n",
    ">- The Majority of Chinook sales arise from **US** and **Canada**. These two countries dominate in customer base as well as sales. However, customers spend lesser per invoice in these countries. \n",
    ">- Although the **Czech Republic, Portugal, and India** record fewer customers and lesser sales values,  customers spend more per invoice than in other countries. To increase revenue from these three markets, Chinook could run marketing campaigns to expand its customer base.\n",
    "   \n",
    "Since the data from each country are relatively few, the initial marketing campaigns should be small. They should aim to collect and analyze customer data so that the right trends are confidently identified."
   ]
  },
  {
   "cell_type": "markdown",
   "metadata": {
    "collapsed": true
   },
   "source": [
    "### D. Albums vs Individual Tracks"
   ]
  },
  {
   "cell_type": "markdown",
   "metadata": {},
   "source": [
    "Chinook organizes its store to allow purchases in one of two ways. Customers can purchase a whole album or a collection of one or more individual tracks.\n",
    "\n",
    "The store does not let customers purchase a whole album and then add individual tracks to that same purchase (unless they do that by choosing each track manually). When customers buy albums, they are charged the same price as if they had purchased each of those tracks separately.\n",
    "\n",
    "Chinook is considering changing its purchasing strategy to save money. The company wants to purchase only the most popular tracks from record companies instead of buying every track from an album. We have been asked to determine what percentage of Chinook's sales are individual tracks vs. whole albums. Management can use this data to understand the effect of their decision on overall revenue."
   ]
  },
  {
   "cell_type": "code",
   "execution_count": 7,
   "metadata": {
    "collapsed": false
   },
   "outputs": [
    {
     "name": "stdout",
     "output_type": "stream",
     "text": [
      "Done.\n"
     ]
    },
    {
     "data": {
      "text/html": [
       "<table>\n",
       "    <tr>\n",
       "        <th>album_purchase</th>\n",
       "        <th>num_invoices</th>\n",
       "        <th>percentage</th>\n",
       "    </tr>\n",
       "    <tr>\n",
       "        <td>No</td>\n",
       "        <td>500</td>\n",
       "        <td>81.4</td>\n",
       "    </tr>\n",
       "    <tr>\n",
       "        <td>Yes</td>\n",
       "        <td>114</td>\n",
       "        <td>18.6</td>\n",
       "    </tr>\n",
       "</table>"
      ],
      "text/plain": [
       "[('No', 500, 81.4), ('Yes', 114, 18.6)]"
      ]
     },
     "execution_count": 7,
     "metadata": {},
     "output_type": "execute_result"
    }
   ],
   "source": [
    "%%sql\n",
    "-- Collate the list of invoices and their albums\n",
    "WITH t1 AS(SELECT invoice_id,\n",
    "                  album_id\n",
    "             FROM invoice_line\n",
    "             JOIN track\n",
    "            USING(track_id)\n",
    "             LEFT JOIN album\n",
    "            USING(album_id)\n",
    "            GROUP BY 1\n",
    "          ),\n",
    "\n",
    "-- Check if all tracks in an invoice belong to an album\n",
    "      t2 AS(SELECT CASE WHEN\n",
    "                             (SELECT track_id\n",
    "                                FROM invoice_line il\n",
    "                               WHERE t1.invoice_id = il.invoice_id\n",
    "                              EXCEPT\n",
    "                              SELECT track_id\n",
    "                                FROM track\n",
    "                               WHERE track.album_id = t1.album_id\n",
    "                             ) IS NULL\n",
    "                        AND\n",
    "                             (SELECT track_id\n",
    "                                FROM track\n",
    "                               WHERE track.album_id = t1.album_id\n",
    "                              EXCEPT\n",
    "                              SELECT track_id\n",
    "                                FROM invoice_line il\n",
    "                               WHERE t1.invoice_id = il.invoice_id\n",
    "                             ) IS NULL\n",
    "                        THEN 'Yes' \n",
    "                        ELSE 'No' \n",
    "                        END AS album_purchase\n",
    "               \n",
    "              FROM t1\n",
    "          )\n",
    "    \n",
    "-- Collate album purchase frequencies          \n",
    "SELECT album_purchase, \n",
    "       COUNT(1) AS num_invoices,\n",
    "       ROUND(\n",
    "             CAST(COUNT(1) * 100 AS Float) / (SELECT COUNT(1) FROM t2)\n",
    "            , 1) AS percentage\n",
    "  FROM t2\n",
    " GROUP BY album_purchase;"
   ]
  },
  {
   "cell_type": "markdown",
   "metadata": {},
   "source": [
    "#### Results\n",
    "> Most purchases (81%) from the store are individual tracks. However, in about 19% of cases, customers buy entire albums. Chinook should be careful with purchasing only the most popular tracks since it risks losing revenue from customers who purchase entire albums."
   ]
  },
  {
   "cell_type": "markdown",
   "metadata": {
    "collapsed": true
   },
   "source": [
    "## Conclusion\n",
    "\n",
    "During this project, we helped a fictional company address questions that may help improve profitability. We can advise on aspects of the company's business from various situations presented.\n",
    "\n",
    "- Regarding the new record label, the company should make the best out of genres with high popularity in the US. They should select Hip-Hop, Punk, and Pop from the current options. Chinook should also be on the lookout for Rock songs since they account for the USA's most significant sales (53%).\n",
    "\n",
    "- Jane Peacock is Chinook's best-performing salesperson. Steve Johnson appears to be underperforming in total sales, but this is only because he joined four months later than the others.\n",
    "\n",
    "- US and Canada have the most extensive customer base, but customers spend less per transaction. The Czech Republic, India, and Portugal have the highest spending customers. Chinook could launch a marketing campaign to increase the customer base in the three regions.\n",
    "\n",
    "- The plan to focus only on popular tracks may sound viable. However, it risks losing revenue from customers who prefer entire albums. It is better to conduct surveys and gather customer perspectives before implementing any new plan."
   ]
  },
  {
   "cell_type": "code",
   "execution_count": null,
   "metadata": {
    "collapsed": true
   },
   "outputs": [],
   "source": []
  }
 ],
 "metadata": {
  "kernelspec": {
   "display_name": "Python 3",
   "language": "python",
   "name": "python3"
  },
  "language_info": {
   "codemirror_mode": {
    "name": "ipython",
    "version": 3
   },
   "file_extension": ".py",
   "mimetype": "text/x-python",
   "name": "python",
   "nbconvert_exporter": "python",
   "pygments_lexer": "ipython3",
   "version": "3.4.3"
  }
 },
 "nbformat": 4,
 "nbformat_minor": 2
}
